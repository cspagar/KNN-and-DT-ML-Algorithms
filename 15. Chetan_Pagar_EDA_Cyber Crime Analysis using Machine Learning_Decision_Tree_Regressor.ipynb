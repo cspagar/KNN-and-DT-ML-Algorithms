{
 "cells": [
  {
   "cell_type": "code",
   "execution_count": 1,
   "id": "83fd7ab7",
   "metadata": {},
   "outputs": [],
   "source": [
    "# Cyber Crime Analysis using Machine Learning"
   ]
  },
  {
   "cell_type": "code",
   "execution_count": null,
   "id": "2e794e98",
   "metadata": {},
   "outputs": [],
   "source": [
    "# Module Alization (Import Numpy, Padas, Matplotlib, Seaborn Libraries)"
   ]
  },
  {
   "cell_type": "code",
   "execution_count": 40,
   "id": "d39b0b2f",
   "metadata": {},
   "outputs": [],
   "source": [
    "import numpy as np\n",
    "import pandas as pd\n",
    "import matplotlib.pyplot as plt\n",
    "import seaborn as sns\n",
    "import warnings\n",
    "warnings.filterwarnings('ignore')"
   ]
  },
  {
   "cell_type": "code",
   "execution_count": null,
   "id": "d195a1d0",
   "metadata": {},
   "outputs": [],
   "source": [
    "# Read Dataset for Analysis"
   ]
  },
  {
   "cell_type": "code",
   "execution_count": 41,
   "id": "a11e5dea",
   "metadata": {},
   "outputs": [
    {
     "data": {
      "text/html": [
       "<div>\n",
       "<style scoped>\n",
       "    .dataframe tbody tr th:only-of-type {\n",
       "        vertical-align: middle;\n",
       "    }\n",
       "\n",
       "    .dataframe tbody tr th {\n",
       "        vertical-align: top;\n",
       "    }\n",
       "\n",
       "    .dataframe thead th {\n",
       "        text-align: right;\n",
       "    }\n",
       "</style>\n",
       "<table border=\"1\" class=\"dataframe\">\n",
       "  <thead>\n",
       "    <tr style=\"text-align: right;\">\n",
       "      <th></th>\n",
       "      <th>S. No</th>\n",
       "      <th>Category</th>\n",
       "      <th>State/UT</th>\n",
       "      <th>2016</th>\n",
       "      <th>2017</th>\n",
       "      <th>2018</th>\n",
       "      <th>Percentage Share of State/UT (2018)</th>\n",
       "      <th>Mid-Year Projected Population (in Lakhs) (2018)+</th>\n",
       "      <th>Rate of Total Cyber Crimes (2018)++</th>\n",
       "    </tr>\n",
       "  </thead>\n",
       "  <tbody>\n",
       "    <tr>\n",
       "      <th>0</th>\n",
       "      <td>1</td>\n",
       "      <td>State</td>\n",
       "      <td>Andhra Pradesh</td>\n",
       "      <td>616</td>\n",
       "      <td>931</td>\n",
       "      <td>1207</td>\n",
       "      <td>4.4</td>\n",
       "      <td>520.3</td>\n",
       "      <td>2.3</td>\n",
       "    </tr>\n",
       "    <tr>\n",
       "      <th>1</th>\n",
       "      <td>2</td>\n",
       "      <td>State</td>\n",
       "      <td>Arunachal Pradesh</td>\n",
       "      <td>4</td>\n",
       "      <td>1</td>\n",
       "      <td>7</td>\n",
       "      <td>0.0</td>\n",
       "      <td>14.9</td>\n",
       "      <td>0.5</td>\n",
       "    </tr>\n",
       "    <tr>\n",
       "      <th>2</th>\n",
       "      <td>3</td>\n",
       "      <td>State</td>\n",
       "      <td>Assam</td>\n",
       "      <td>696</td>\n",
       "      <td>1120</td>\n",
       "      <td>2022</td>\n",
       "      <td>7.4</td>\n",
       "      <td>340.4</td>\n",
       "      <td>5.9</td>\n",
       "    </tr>\n",
       "    <tr>\n",
       "      <th>3</th>\n",
       "      <td>4</td>\n",
       "      <td>State</td>\n",
       "      <td>Bihar</td>\n",
       "      <td>309</td>\n",
       "      <td>433</td>\n",
       "      <td>374</td>\n",
       "      <td>1.4</td>\n",
       "      <td>1183.3</td>\n",
       "      <td>0.3</td>\n",
       "    </tr>\n",
       "    <tr>\n",
       "      <th>4</th>\n",
       "      <td>5</td>\n",
       "      <td>State</td>\n",
       "      <td>Chhattisgarh</td>\n",
       "      <td>90</td>\n",
       "      <td>171</td>\n",
       "      <td>139</td>\n",
       "      <td>0.5</td>\n",
       "      <td>284.7</td>\n",
       "      <td>0.5</td>\n",
       "    </tr>\n",
       "  </tbody>\n",
       "</table>\n",
       "</div>"
      ],
      "text/plain": [
       "  S. No Category           State/UT  2016  2017  2018  \\\n",
       "0     1    State     Andhra Pradesh   616   931  1207   \n",
       "1     2    State  Arunachal Pradesh     4     1     7   \n",
       "2     3    State              Assam   696  1120  2022   \n",
       "3     4    State              Bihar   309   433   374   \n",
       "4     5    State       Chhattisgarh    90   171   139   \n",
       "\n",
       "   Percentage Share of State/UT (2018)  \\\n",
       "0                                  4.4   \n",
       "1                                  0.0   \n",
       "2                                  7.4   \n",
       "3                                  1.4   \n",
       "4                                  0.5   \n",
       "\n",
       "   Mid-Year Projected Population (in Lakhs) (2018)+  \\\n",
       "0                                             520.3   \n",
       "1                                              14.9   \n",
       "2                                             340.4   \n",
       "3                                            1183.3   \n",
       "4                                             284.7   \n",
       "\n",
       "   Rate of Total Cyber Crimes (2018)++  \n",
       "0                                  2.3  \n",
       "1                                  0.5  \n",
       "2                                  5.9  \n",
       "3                                  0.3  \n",
       "4                                  0.5  "
      ]
     },
     "execution_count": 41,
     "metadata": {},
     "output_type": "execute_result"
    }
   ],
   "source": [
    "crime_data = pd.read_csv('cyber_crime.csv')\n",
    "crime_data.head() # Fetch first 5 records"
   ]
  },
  {
   "cell_type": "code",
   "execution_count": 42,
   "id": "23aeb747",
   "metadata": {},
   "outputs": [
    {
     "data": {
      "text/html": [
       "<div>\n",
       "<style scoped>\n",
       "    .dataframe tbody tr th:only-of-type {\n",
       "        vertical-align: middle;\n",
       "    }\n",
       "\n",
       "    .dataframe tbody tr th {\n",
       "        vertical-align: top;\n",
       "    }\n",
       "\n",
       "    .dataframe thead th {\n",
       "        text-align: right;\n",
       "    }\n",
       "</style>\n",
       "<table border=\"1\" class=\"dataframe\">\n",
       "  <thead>\n",
       "    <tr style=\"text-align: right;\">\n",
       "      <th></th>\n",
       "      <th>S. No</th>\n",
       "      <th>Category</th>\n",
       "      <th>State/UT</th>\n",
       "      <th>2016</th>\n",
       "      <th>2017</th>\n",
       "      <th>2018</th>\n",
       "      <th>Percentage Share of State/UT (2018)</th>\n",
       "      <th>Mid-Year Projected Population (in Lakhs) (2018)+</th>\n",
       "      <th>Rate of Total Cyber Crimes (2018)++</th>\n",
       "    </tr>\n",
       "  </thead>\n",
       "  <tbody>\n",
       "    <tr>\n",
       "      <th>34</th>\n",
       "      <td>34</td>\n",
       "      <td>Union Territory</td>\n",
       "      <td>Delhi UT</td>\n",
       "      <td>98</td>\n",
       "      <td>162</td>\n",
       "      <td>189</td>\n",
       "      <td>0.7</td>\n",
       "      <td>195.6</td>\n",
       "      <td>1.0</td>\n",
       "    </tr>\n",
       "    <tr>\n",
       "      <th>35</th>\n",
       "      <td>35</td>\n",
       "      <td>Union Territory</td>\n",
       "      <td>Lakshadweep</td>\n",
       "      <td>0</td>\n",
       "      <td>0</td>\n",
       "      <td>4</td>\n",
       "      <td>0.0</td>\n",
       "      <td>0.7</td>\n",
       "      <td>6.0</td>\n",
       "    </tr>\n",
       "    <tr>\n",
       "      <th>36</th>\n",
       "      <td>36</td>\n",
       "      <td>Union Territory</td>\n",
       "      <td>Puducherry</td>\n",
       "      <td>2</td>\n",
       "      <td>5</td>\n",
       "      <td>14</td>\n",
       "      <td>0.1</td>\n",
       "      <td>14.8</td>\n",
       "      <td>0.9</td>\n",
       "    </tr>\n",
       "    <tr>\n",
       "      <th>37</th>\n",
       "      <td>Union Territory</td>\n",
       "      <td>Union Territory</td>\n",
       "      <td>Total UT(s)</td>\n",
       "      <td>130</td>\n",
       "      <td>203</td>\n",
       "      <td>244</td>\n",
       "      <td>0.9</td>\n",
       "      <td>236.0</td>\n",
       "      <td>1.0</td>\n",
       "    </tr>\n",
       "    <tr>\n",
       "      <th>38</th>\n",
       "      <td>Total (All India)</td>\n",
       "      <td>Total (All India)</td>\n",
       "      <td>Total (All India)</td>\n",
       "      <td>12317</td>\n",
       "      <td>21796</td>\n",
       "      <td>27248</td>\n",
       "      <td>100.0</td>\n",
       "      <td>13233.8</td>\n",
       "      <td>2.1</td>\n",
       "    </tr>\n",
       "  </tbody>\n",
       "</table>\n",
       "</div>"
      ],
      "text/plain": [
       "                S. No           Category           State/UT   2016   2017  \\\n",
       "34                 34    Union Territory           Delhi UT     98    162   \n",
       "35                 35    Union Territory        Lakshadweep      0      0   \n",
       "36                 36    Union Territory         Puducherry      2      5   \n",
       "37    Union Territory    Union Territory        Total UT(s)    130    203   \n",
       "38  Total (All India)  Total (All India)  Total (All India)  12317  21796   \n",
       "\n",
       "     2018  Percentage Share of State/UT (2018)  \\\n",
       "34    189                                  0.7   \n",
       "35      4                                  0.0   \n",
       "36     14                                  0.1   \n",
       "37    244                                  0.9   \n",
       "38  27248                                100.0   \n",
       "\n",
       "    Mid-Year Projected Population (in Lakhs) (2018)+  \\\n",
       "34                                             195.6   \n",
       "35                                               0.7   \n",
       "36                                              14.8   \n",
       "37                                             236.0   \n",
       "38                                           13233.8   \n",
       "\n",
       "    Rate of Total Cyber Crimes (2018)++  \n",
       "34                                  1.0  \n",
       "35                                  6.0  \n",
       "36                                  0.9  \n",
       "37                                  1.0  \n",
       "38                                  2.1  "
      ]
     },
     "execution_count": 42,
     "metadata": {},
     "output_type": "execute_result"
    }
   ],
   "source": [
    "crime_data.tail() # Fetch last 5 records"
   ]
  },
  {
   "cell_type": "code",
   "execution_count": null,
   "id": "9a47630d",
   "metadata": {},
   "outputs": [],
   "source": [
    "# Check Number of rows and Columns present in dataset"
   ]
  },
  {
   "cell_type": "code",
   "execution_count": 43,
   "id": "e3cac9c7",
   "metadata": {},
   "outputs": [
    {
     "data": {
      "text/plain": [
       "(39, 9)"
      ]
     },
     "execution_count": 43,
     "metadata": {},
     "output_type": "execute_result"
    }
   ],
   "source": [
    "crime_data.shape"
   ]
  },
  {
   "cell_type": "code",
   "execution_count": null,
   "id": "176ff7ad",
   "metadata": {},
   "outputs": [],
   "source": [
    "# Check all columns present in dataset"
   ]
  },
  {
   "cell_type": "code",
   "execution_count": 44,
   "id": "329c934b",
   "metadata": {},
   "outputs": [
    {
     "data": {
      "text/plain": [
       "Index(['S. No', 'Category', 'State/UT', '2016', '2017', '2018',\n",
       "       'Percentage Share of State/UT (2018)',\n",
       "       'Mid-Year Projected Population (in Lakhs) (2018)+',\n",
       "       'Rate of Total Cyber Crimes (2018)++'],\n",
       "      dtype='object')"
      ]
     },
     "execution_count": 44,
     "metadata": {},
     "output_type": "execute_result"
    }
   ],
   "source": [
    "crime_data.columns"
   ]
  },
  {
   "cell_type": "code",
   "execution_count": 11,
   "id": "04d4838a",
   "metadata": {},
   "outputs": [],
   "source": [
    "# check all columns datatype"
   ]
  },
  {
   "cell_type": "code",
   "execution_count": 45,
   "id": "8f2d3a22",
   "metadata": {},
   "outputs": [
    {
     "data": {
      "text/plain": [
       "S. No                                                object\n",
       "Category                                             object\n",
       "State/UT                                             object\n",
       "2016                                                  int64\n",
       "2017                                                  int64\n",
       "2018                                                  int64\n",
       "Percentage Share of State/UT (2018)                 float64\n",
       "Mid-Year Projected Population (in Lakhs) (2018)+    float64\n",
       "Rate of Total Cyber Crimes (2018)++                 float64\n",
       "dtype: object"
      ]
     },
     "execution_count": 45,
     "metadata": {},
     "output_type": "execute_result"
    }
   ],
   "source": [
    "crime_data.dtypes"
   ]
  },
  {
   "cell_type": "code",
   "execution_count": null,
   "id": "13c2f0fe",
   "metadata": {},
   "outputs": [],
   "source": [
    "# Check Abstract Summary od dataset"
   ]
  },
  {
   "cell_type": "code",
   "execution_count": 46,
   "id": "80163680",
   "metadata": {},
   "outputs": [
    {
     "name": "stdout",
     "output_type": "stream",
     "text": [
      "<class 'pandas.core.frame.DataFrame'>\n",
      "RangeIndex: 39 entries, 0 to 38\n",
      "Data columns (total 9 columns):\n",
      " #   Column                                            Non-Null Count  Dtype  \n",
      "---  ------                                            --------------  -----  \n",
      " 0   S. No                                             39 non-null     object \n",
      " 1   Category                                          39 non-null     object \n",
      " 2   State/UT                                          39 non-null     object \n",
      " 3   2016                                              39 non-null     int64  \n",
      " 4   2017                                              39 non-null     int64  \n",
      " 5   2018                                              39 non-null     int64  \n",
      " 6   Percentage Share of State/UT (2018)               39 non-null     float64\n",
      " 7   Mid-Year Projected Population (in Lakhs) (2018)+  39 non-null     float64\n",
      " 8   Rate of Total Cyber Crimes (2018)++               39 non-null     float64\n",
      "dtypes: float64(3), int64(3), object(3)\n",
      "memory usage: 2.9+ KB\n"
     ]
    }
   ],
   "source": [
    "crime_data.info()"
   ]
  },
  {
   "cell_type": "code",
   "execution_count": null,
   "id": "52e3d8a0",
   "metadata": {},
   "outputs": [],
   "source": [
    "# Descriptive summary of dataset (Numerical Columns)"
   ]
  },
  {
   "cell_type": "code",
   "execution_count": 47,
   "id": "9d21eeb6",
   "metadata": {},
   "outputs": [
    {
     "data": {
      "text/html": [
       "<div>\n",
       "<style scoped>\n",
       "    .dataframe tbody tr th:only-of-type {\n",
       "        vertical-align: middle;\n",
       "    }\n",
       "\n",
       "    .dataframe tbody tr th {\n",
       "        vertical-align: top;\n",
       "    }\n",
       "\n",
       "    .dataframe thead th {\n",
       "        text-align: right;\n",
       "    }\n",
       "</style>\n",
       "<table border=\"1\" class=\"dataframe\">\n",
       "  <thead>\n",
       "    <tr style=\"text-align: right;\">\n",
       "      <th></th>\n",
       "      <th>2016</th>\n",
       "      <th>2017</th>\n",
       "      <th>2018</th>\n",
       "      <th>Percentage Share of State/UT (2018)</th>\n",
       "      <th>Mid-Year Projected Population (in Lakhs) (2018)+</th>\n",
       "      <th>Rate of Total Cyber Crimes (2018)++</th>\n",
       "    </tr>\n",
       "  </thead>\n",
       "  <tbody>\n",
       "    <tr>\n",
       "      <th>count</th>\n",
       "      <td>39.000000</td>\n",
       "      <td>39.000000</td>\n",
       "      <td>39.000000</td>\n",
       "      <td>39.000000</td>\n",
       "      <td>39.000000</td>\n",
       "      <td>39.000000</td>\n",
       "    </tr>\n",
       "    <tr>\n",
       "      <th>mean</th>\n",
       "      <td>947.461538</td>\n",
       "      <td>1676.615385</td>\n",
       "      <td>2096.000000</td>\n",
       "      <td>7.689744</td>\n",
       "      <td>1017.987179</td>\n",
       "      <td>1.689744</td>\n",
       "    </tr>\n",
       "    <tr>\n",
       "      <th>std</th>\n",
       "      <td>2724.974532</td>\n",
       "      <td>4832.658115</td>\n",
       "      <td>6065.161416</td>\n",
       "      <td>22.257391</td>\n",
       "      <td>2885.991893</td>\n",
       "      <td>1.811193</td>\n",
       "    </tr>\n",
       "    <tr>\n",
       "      <th>min</th>\n",
       "      <td>0.000000</td>\n",
       "      <td>0.000000</td>\n",
       "      <td>0.000000</td>\n",
       "      <td>0.000000</td>\n",
       "      <td>0.700000</td>\n",
       "      <td>0.000000</td>\n",
       "    </tr>\n",
       "    <tr>\n",
       "      <th>25%</th>\n",
       "      <td>9.500000</td>\n",
       "      <td>11.500000</td>\n",
       "      <td>24.500000</td>\n",
       "      <td>0.100000</td>\n",
       "      <td>18.300000</td>\n",
       "      <td>0.500000</td>\n",
       "    </tr>\n",
       "    <tr>\n",
       "      <th>50%</th>\n",
       "      <td>102.000000</td>\n",
       "      <td>176.000000</td>\n",
       "      <td>239.000000</td>\n",
       "      <td>0.900000</td>\n",
       "      <td>284.000000</td>\n",
       "      <td>1.000000</td>\n",
       "    </tr>\n",
       "    <tr>\n",
       "      <th>75%</th>\n",
       "      <td>439.500000</td>\n",
       "      <td>772.000000</td>\n",
       "      <td>886.500000</td>\n",
       "      <td>3.250000</td>\n",
       "      <td>663.850000</td>\n",
       "      <td>2.200000</td>\n",
       "    </tr>\n",
       "    <tr>\n",
       "      <th>max</th>\n",
       "      <td>12317.000000</td>\n",
       "      <td>21796.000000</td>\n",
       "      <td>27248.000000</td>\n",
       "      <td>100.000000</td>\n",
       "      <td>13233.800000</td>\n",
       "      <td>8.900000</td>\n",
       "    </tr>\n",
       "  </tbody>\n",
       "</table>\n",
       "</div>"
      ],
      "text/plain": [
       "               2016          2017          2018  \\\n",
       "count     39.000000     39.000000     39.000000   \n",
       "mean     947.461538   1676.615385   2096.000000   \n",
       "std     2724.974532   4832.658115   6065.161416   \n",
       "min        0.000000      0.000000      0.000000   \n",
       "25%        9.500000     11.500000     24.500000   \n",
       "50%      102.000000    176.000000    239.000000   \n",
       "75%      439.500000    772.000000    886.500000   \n",
       "max    12317.000000  21796.000000  27248.000000   \n",
       "\n",
       "       Percentage Share of State/UT (2018)  \\\n",
       "count                            39.000000   \n",
       "mean                              7.689744   \n",
       "std                              22.257391   \n",
       "min                               0.000000   \n",
       "25%                               0.100000   \n",
       "50%                               0.900000   \n",
       "75%                               3.250000   \n",
       "max                             100.000000   \n",
       "\n",
       "       Mid-Year Projected Population (in Lakhs) (2018)+  \\\n",
       "count                                         39.000000   \n",
       "mean                                        1017.987179   \n",
       "std                                         2885.991893   \n",
       "min                                            0.700000   \n",
       "25%                                           18.300000   \n",
       "50%                                          284.000000   \n",
       "75%                                          663.850000   \n",
       "max                                        13233.800000   \n",
       "\n",
       "       Rate of Total Cyber Crimes (2018)++  \n",
       "count                            39.000000  \n",
       "mean                              1.689744  \n",
       "std                               1.811193  \n",
       "min                               0.000000  \n",
       "25%                               0.500000  \n",
       "50%                               1.000000  \n",
       "75%                               2.200000  \n",
       "max                               8.900000  "
      ]
     },
     "execution_count": 47,
     "metadata": {},
     "output_type": "execute_result"
    }
   ],
   "source": [
    "crime_data.describe()"
   ]
  },
  {
   "cell_type": "code",
   "execution_count": null,
   "id": "922e6636",
   "metadata": {},
   "outputs": [],
   "source": [
    "# Check any null value is present in dataset or not"
   ]
  },
  {
   "cell_type": "code",
   "execution_count": 48,
   "id": "3a7a3f5c",
   "metadata": {},
   "outputs": [
    {
     "data": {
      "text/plain": [
       "S. No                                               0\n",
       "Category                                            0\n",
       "State/UT                                            0\n",
       "2016                                                0\n",
       "2017                                                0\n",
       "2018                                                0\n",
       "Percentage Share of State/UT (2018)                 0\n",
       "Mid-Year Projected Population (in Lakhs) (2018)+    0\n",
       "Rate of Total Cyber Crimes (2018)++                 0\n",
       "dtype: int64"
      ]
     },
     "execution_count": 48,
     "metadata": {},
     "output_type": "execute_result"
    }
   ],
   "source": [
    "crime_data.isna().sum()"
   ]
  },
  {
   "cell_type": "code",
   "execution_count": null,
   "id": "0435077d",
   "metadata": {},
   "outputs": [],
   "source": [
    "#Check number of unique records of each column"
   ]
  },
  {
   "cell_type": "code",
   "execution_count": 49,
   "id": "0657e1fa",
   "metadata": {},
   "outputs": [
    {
     "data": {
      "text/plain": [
       "S. No                                               39\n",
       "Category                                             3\n",
       "State/UT                                            39\n",
       "2016                                                34\n",
       "2017                                                35\n",
       "2018                                                36\n",
       "Percentage Share of State/UT (2018)                 23\n",
       "Mid-Year Projected Population (in Lakhs) (2018)+    38\n",
       "Rate of Total Cyber Crimes (2018)++                 23\n",
       "dtype: int64"
      ]
     },
     "execution_count": 49,
     "metadata": {},
     "output_type": "execute_result"
    }
   ],
   "source": [
    "crime_data.nunique()"
   ]
  },
  {
   "cell_type": "code",
   "execution_count": 50,
   "id": "9c4db4a5",
   "metadata": {},
   "outputs": [],
   "source": [
    "# check unique categories of category column as there are only 2 required"
   ]
  },
  {
   "cell_type": "code",
   "execution_count": 19,
   "id": "57512544",
   "metadata": {},
   "outputs": [
    {
     "data": {
      "text/plain": [
       "array(['State', 'Union Territory', 'Total (All India)'], dtype=object)"
      ]
     },
     "execution_count": 19,
     "metadata": {},
     "output_type": "execute_result"
    }
   ],
   "source": [
    "crime_data['Category'].unique()"
   ]
  },
  {
   "cell_type": "code",
   "execution_count": null,
   "id": "3330e121",
   "metadata": {},
   "outputs": [],
   "source": [
    "# check occurences(counts) of each category"
   ]
  },
  {
   "cell_type": "code",
   "execution_count": 51,
   "id": "3eea437f",
   "metadata": {},
   "outputs": [
    {
     "data": {
      "text/plain": [
       "State                30\n",
       "Union Territory       8\n",
       "Total (All India)     1\n",
       "Name: Category, dtype: int64"
      ]
     },
     "execution_count": 51,
     "metadata": {},
     "output_type": "execute_result"
    }
   ],
   "source": [
    "crime_data['Category'].value_counts()"
   ]
  },
  {
   "cell_type": "code",
   "execution_count": 22,
   "id": "d2b4eae4",
   "metadata": {},
   "outputs": [],
   "source": [
    "# Findout the corelation between data using corr function"
   ]
  },
  {
   "cell_type": "code",
   "execution_count": 21,
   "id": "02ecd30e",
   "metadata": {},
   "outputs": [
    {
     "data": {
      "text/html": [
       "<div>\n",
       "<style scoped>\n",
       "    .dataframe tbody tr th:only-of-type {\n",
       "        vertical-align: middle;\n",
       "    }\n",
       "\n",
       "    .dataframe tbody tr th {\n",
       "        vertical-align: top;\n",
       "    }\n",
       "\n",
       "    .dataframe thead th {\n",
       "        text-align: right;\n",
       "    }\n",
       "</style>\n",
       "<table border=\"1\" class=\"dataframe\">\n",
       "  <thead>\n",
       "    <tr style=\"text-align: right;\">\n",
       "      <th></th>\n",
       "      <th>2016</th>\n",
       "      <th>2017</th>\n",
       "      <th>2018</th>\n",
       "      <th>Percentage Share of State/UT (2018)</th>\n",
       "      <th>Mid-Year Projected Population (in Lakhs) (2018)+</th>\n",
       "      <th>Rate of Total Cyber Crimes (2018)++</th>\n",
       "    </tr>\n",
       "  </thead>\n",
       "  <tbody>\n",
       "    <tr>\n",
       "      <th>2016</th>\n",
       "      <td>1.00000</td>\n",
       "      <td>0.998590</td>\n",
       "      <td>0.993830</td>\n",
       "      <td>0.993860</td>\n",
       "      <td>0.992970</td>\n",
       "      <td>0.136820</td>\n",
       "    </tr>\n",
       "    <tr>\n",
       "      <th>2017</th>\n",
       "      <td>0.99859</td>\n",
       "      <td>1.000000</td>\n",
       "      <td>0.998014</td>\n",
       "      <td>0.998030</td>\n",
       "      <td>0.991394</td>\n",
       "      <td>0.164416</td>\n",
       "    </tr>\n",
       "    <tr>\n",
       "      <th>2018</th>\n",
       "      <td>0.99383</td>\n",
       "      <td>0.998014</td>\n",
       "      <td>1.000000</td>\n",
       "      <td>0.999999</td>\n",
       "      <td>0.986735</td>\n",
       "      <td>0.200750</td>\n",
       "    </tr>\n",
       "    <tr>\n",
       "      <th>Percentage Share of State/UT (2018)</th>\n",
       "      <td>0.99386</td>\n",
       "      <td>0.998030</td>\n",
       "      <td>0.999999</td>\n",
       "      <td>1.000000</td>\n",
       "      <td>0.986789</td>\n",
       "      <td>0.200419</td>\n",
       "    </tr>\n",
       "    <tr>\n",
       "      <th>Mid-Year Projected Population (in Lakhs) (2018)+</th>\n",
       "      <td>0.99297</td>\n",
       "      <td>0.991394</td>\n",
       "      <td>0.986735</td>\n",
       "      <td>0.986789</td>\n",
       "      <td>1.000000</td>\n",
       "      <td>0.077051</td>\n",
       "    </tr>\n",
       "    <tr>\n",
       "      <th>Rate of Total Cyber Crimes (2018)++</th>\n",
       "      <td>0.13682</td>\n",
       "      <td>0.164416</td>\n",
       "      <td>0.200750</td>\n",
       "      <td>0.200419</td>\n",
       "      <td>0.077051</td>\n",
       "      <td>1.000000</td>\n",
       "    </tr>\n",
       "  </tbody>\n",
       "</table>\n",
       "</div>"
      ],
      "text/plain": [
       "                                                     2016      2017      2018  \\\n",
       "2016                                              1.00000  0.998590  0.993830   \n",
       "2017                                              0.99859  1.000000  0.998014   \n",
       "2018                                              0.99383  0.998014  1.000000   \n",
       "Percentage Share of State/UT (2018)               0.99386  0.998030  0.999999   \n",
       "Mid-Year Projected Population (in Lakhs) (2018)+  0.99297  0.991394  0.986735   \n",
       "Rate of Total Cyber Crimes (2018)++               0.13682  0.164416  0.200750   \n",
       "\n",
       "                                                  Percentage Share of State/UT (2018)  \\\n",
       "2016                                                                         0.993860   \n",
       "2017                                                                         0.998030   \n",
       "2018                                                                         0.999999   \n",
       "Percentage Share of State/UT (2018)                                          1.000000   \n",
       "Mid-Year Projected Population (in Lakhs) (2018)+                             0.986789   \n",
       "Rate of Total Cyber Crimes (2018)++                                          0.200419   \n",
       "\n",
       "                                                  Mid-Year Projected Population (in Lakhs) (2018)+  \\\n",
       "2016                                                                                      0.992970   \n",
       "2017                                                                                      0.991394   \n",
       "2018                                                                                      0.986735   \n",
       "Percentage Share of State/UT (2018)                                                       0.986789   \n",
       "Mid-Year Projected Population (in Lakhs) (2018)+                                          1.000000   \n",
       "Rate of Total Cyber Crimes (2018)++                                                       0.077051   \n",
       "\n",
       "                                                  Rate of Total Cyber Crimes (2018)++  \n",
       "2016                                                                         0.136820  \n",
       "2017                                                                         0.164416  \n",
       "2018                                                                         0.200750  \n",
       "Percentage Share of State/UT (2018)                                          0.200419  \n",
       "Mid-Year Projected Population (in Lakhs) (2018)+                             0.077051  \n",
       "Rate of Total Cyber Crimes (2018)++                                          1.000000  "
      ]
     },
     "execution_count": 21,
     "metadata": {},
     "output_type": "execute_result"
    }
   ],
   "source": [
    "crime_data.corr()"
   ]
  },
  {
   "cell_type": "code",
   "execution_count": null,
   "id": "1ddefabc",
   "metadata": {},
   "outputs": [],
   "source": [
    "# Chenge background for better visualization"
   ]
  },
  {
   "cell_type": "code",
   "execution_count": 23,
   "id": "4b06a18c",
   "metadata": {},
   "outputs": [
    {
     "data": {
      "text/html": [
       "<style type=\"text/css\">\n",
       "#T_8da83_row0_col0, #T_8da83_row0_col1, #T_8da83_row1_col0, #T_8da83_row1_col1, #T_8da83_row1_col2, #T_8da83_row1_col3, #T_8da83_row2_col1, #T_8da83_row2_col2, #T_8da83_row2_col3, #T_8da83_row3_col1, #T_8da83_row3_col2, #T_8da83_row3_col3, #T_8da83_row4_col4, #T_8da83_row5_col5 {\n",
       "  background-color: #b40426;\n",
       "  color: #f1f1f1;\n",
       "}\n",
       "#T_8da83_row0_col2, #T_8da83_row0_col3, #T_8da83_row0_col4, #T_8da83_row2_col0, #T_8da83_row3_col0 {\n",
       "  background-color: #b50927;\n",
       "  color: #f1f1f1;\n",
       "}\n",
       "#T_8da83_row0_col5 {\n",
       "  background-color: #4e68d8;\n",
       "  color: #f1f1f1;\n",
       "}\n",
       "#T_8da83_row1_col4, #T_8da83_row4_col0, #T_8da83_row4_col1 {\n",
       "  background-color: #b70d28;\n",
       "  color: #f1f1f1;\n",
       "}\n",
       "#T_8da83_row1_col5 {\n",
       "  background-color: #5875e1;\n",
       "  color: #f1f1f1;\n",
       "}\n",
       "#T_8da83_row2_col4, #T_8da83_row3_col4 {\n",
       "  background-color: #b8122a;\n",
       "  color: #f1f1f1;\n",
       "}\n",
       "#T_8da83_row2_col5, #T_8da83_row3_col5 {\n",
       "  background-color: #6485ec;\n",
       "  color: #f1f1f1;\n",
       "}\n",
       "#T_8da83_row4_col2, #T_8da83_row4_col3 {\n",
       "  background-color: #ba162b;\n",
       "  color: #f1f1f1;\n",
       "}\n",
       "#T_8da83_row4_col5, #T_8da83_row5_col0, #T_8da83_row5_col1, #T_8da83_row5_col2, #T_8da83_row5_col3, #T_8da83_row5_col4 {\n",
       "  background-color: #3b4cc0;\n",
       "  color: #f1f1f1;\n",
       "}\n",
       "</style>\n",
       "<table id=\"T_8da83_\">\n",
       "  <thead>\n",
       "    <tr>\n",
       "      <th class=\"blank level0\" >&nbsp;</th>\n",
       "      <th class=\"col_heading level0 col0\" >2016</th>\n",
       "      <th class=\"col_heading level0 col1\" >2017</th>\n",
       "      <th class=\"col_heading level0 col2\" >2018</th>\n",
       "      <th class=\"col_heading level0 col3\" >Percentage Share of State/UT (2018)</th>\n",
       "      <th class=\"col_heading level0 col4\" >Mid-Year Projected Population (in Lakhs) (2018)+</th>\n",
       "      <th class=\"col_heading level0 col5\" >Rate of Total Cyber Crimes (2018)++</th>\n",
       "    </tr>\n",
       "  </thead>\n",
       "  <tbody>\n",
       "    <tr>\n",
       "      <th id=\"T_8da83_level0_row0\" class=\"row_heading level0 row0\" >2016</th>\n",
       "      <td id=\"T_8da83_row0_col0\" class=\"data row0 col0\" >1.000000</td>\n",
       "      <td id=\"T_8da83_row0_col1\" class=\"data row0 col1\" >0.998590</td>\n",
       "      <td id=\"T_8da83_row0_col2\" class=\"data row0 col2\" >0.993830</td>\n",
       "      <td id=\"T_8da83_row0_col3\" class=\"data row0 col3\" >0.993860</td>\n",
       "      <td id=\"T_8da83_row0_col4\" class=\"data row0 col4\" >0.992970</td>\n",
       "      <td id=\"T_8da83_row0_col5\" class=\"data row0 col5\" >0.136820</td>\n",
       "    </tr>\n",
       "    <tr>\n",
       "      <th id=\"T_8da83_level0_row1\" class=\"row_heading level0 row1\" >2017</th>\n",
       "      <td id=\"T_8da83_row1_col0\" class=\"data row1 col0\" >0.998590</td>\n",
       "      <td id=\"T_8da83_row1_col1\" class=\"data row1 col1\" >1.000000</td>\n",
       "      <td id=\"T_8da83_row1_col2\" class=\"data row1 col2\" >0.998014</td>\n",
       "      <td id=\"T_8da83_row1_col3\" class=\"data row1 col3\" >0.998030</td>\n",
       "      <td id=\"T_8da83_row1_col4\" class=\"data row1 col4\" >0.991394</td>\n",
       "      <td id=\"T_8da83_row1_col5\" class=\"data row1 col5\" >0.164416</td>\n",
       "    </tr>\n",
       "    <tr>\n",
       "      <th id=\"T_8da83_level0_row2\" class=\"row_heading level0 row2\" >2018</th>\n",
       "      <td id=\"T_8da83_row2_col0\" class=\"data row2 col0\" >0.993830</td>\n",
       "      <td id=\"T_8da83_row2_col1\" class=\"data row2 col1\" >0.998014</td>\n",
       "      <td id=\"T_8da83_row2_col2\" class=\"data row2 col2\" >1.000000</td>\n",
       "      <td id=\"T_8da83_row2_col3\" class=\"data row2 col3\" >0.999999</td>\n",
       "      <td id=\"T_8da83_row2_col4\" class=\"data row2 col4\" >0.986735</td>\n",
       "      <td id=\"T_8da83_row2_col5\" class=\"data row2 col5\" >0.200750</td>\n",
       "    </tr>\n",
       "    <tr>\n",
       "      <th id=\"T_8da83_level0_row3\" class=\"row_heading level0 row3\" >Percentage Share of State/UT (2018)</th>\n",
       "      <td id=\"T_8da83_row3_col0\" class=\"data row3 col0\" >0.993860</td>\n",
       "      <td id=\"T_8da83_row3_col1\" class=\"data row3 col1\" >0.998030</td>\n",
       "      <td id=\"T_8da83_row3_col2\" class=\"data row3 col2\" >0.999999</td>\n",
       "      <td id=\"T_8da83_row3_col3\" class=\"data row3 col3\" >1.000000</td>\n",
       "      <td id=\"T_8da83_row3_col4\" class=\"data row3 col4\" >0.986789</td>\n",
       "      <td id=\"T_8da83_row3_col5\" class=\"data row3 col5\" >0.200419</td>\n",
       "    </tr>\n",
       "    <tr>\n",
       "      <th id=\"T_8da83_level0_row4\" class=\"row_heading level0 row4\" >Mid-Year Projected Population (in Lakhs) (2018)+</th>\n",
       "      <td id=\"T_8da83_row4_col0\" class=\"data row4 col0\" >0.992970</td>\n",
       "      <td id=\"T_8da83_row4_col1\" class=\"data row4 col1\" >0.991394</td>\n",
       "      <td id=\"T_8da83_row4_col2\" class=\"data row4 col2\" >0.986735</td>\n",
       "      <td id=\"T_8da83_row4_col3\" class=\"data row4 col3\" >0.986789</td>\n",
       "      <td id=\"T_8da83_row4_col4\" class=\"data row4 col4\" >1.000000</td>\n",
       "      <td id=\"T_8da83_row4_col5\" class=\"data row4 col5\" >0.077051</td>\n",
       "    </tr>\n",
       "    <tr>\n",
       "      <th id=\"T_8da83_level0_row5\" class=\"row_heading level0 row5\" >Rate of Total Cyber Crimes (2018)++</th>\n",
       "      <td id=\"T_8da83_row5_col0\" class=\"data row5 col0\" >0.136820</td>\n",
       "      <td id=\"T_8da83_row5_col1\" class=\"data row5 col1\" >0.164416</td>\n",
       "      <td id=\"T_8da83_row5_col2\" class=\"data row5 col2\" >0.200750</td>\n",
       "      <td id=\"T_8da83_row5_col3\" class=\"data row5 col3\" >0.200419</td>\n",
       "      <td id=\"T_8da83_row5_col4\" class=\"data row5 col4\" >0.077051</td>\n",
       "      <td id=\"T_8da83_row5_col5\" class=\"data row5 col5\" >1.000000</td>\n",
       "    </tr>\n",
       "  </tbody>\n",
       "</table>\n"
      ],
      "text/plain": [
       "<pandas.io.formats.style.Styler at 0x1aee2603c70>"
      ]
     },
     "execution_count": 23,
     "metadata": {},
     "output_type": "execute_result"
    }
   ],
   "source": [
    "crime_data.corr().style.background_gradient(cmap='coolwarm')"
   ]
  },
  {
   "cell_type": "code",
   "execution_count": null,
   "id": "85c9749f",
   "metadata": {},
   "outputs": [],
   "source": [
    "# Plot the heatmap on this data "
   ]
  },
  {
   "cell_type": "code",
   "execution_count": 30,
   "id": "deae4e38",
   "metadata": {},
   "outputs": [
    {
     "data": {
      "text/plain": [
       "<function matplotlib.pyplot.show(close=None, block=None)>"
      ]
     },
     "execution_count": 30,
     "metadata": {},
     "output_type": "execute_result"
    },
    {
     "data": {
      "image/png": "[encoded data removed]",
      "text/plain": [
       "<Figure size 1080x504 with 2 Axes>"
      ]
     },
     "metadata": {
      "needs_background": "light"
     },
     "output_type": "display_data"
    }
   ],
   "source": [
    "plt.figure(figsize=(15,7))\n",
    "sns.heatmap(crime_data.corr())\n",
    "plt.show"
   ]
  },
  {
   "cell_type": "code",
   "execution_count": 52,
   "id": "9c21a257",
   "metadata": {},
   "outputs": [
    {
     "data": {
      "text/html": [
       "<div>\n",
       "<style scoped>\n",
       "    .dataframe tbody tr th:only-of-type {\n",
       "        vertical-align: middle;\n",
       "    }\n",
       "\n",
       "    .dataframe tbody tr th {\n",
       "        vertical-align: top;\n",
       "    }\n",
       "\n",
       "    .dataframe thead th {\n",
       "        text-align: right;\n",
       "    }\n",
       "</style>\n",
       "<table border=\"1\" class=\"dataframe\">\n",
       "  <thead>\n",
       "    <tr style=\"text-align: right;\">\n",
       "      <th></th>\n",
       "      <th>S. No</th>\n",
       "      <th>Category</th>\n",
       "      <th>State/UT</th>\n",
       "      <th>2016</th>\n",
       "      <th>2017</th>\n",
       "      <th>2018</th>\n",
       "      <th>Percentage Share of State/UT (2018)</th>\n",
       "      <th>Mid-Year Projected Population (in Lakhs) (2018)+</th>\n",
       "      <th>Rate of Total Cyber Crimes (2018)++</th>\n",
       "    </tr>\n",
       "  </thead>\n",
       "  <tbody>\n",
       "    <tr>\n",
       "      <th>0</th>\n",
       "      <td>1</td>\n",
       "      <td>State</td>\n",
       "      <td>Andhra Pradesh</td>\n",
       "      <td>616</td>\n",
       "      <td>931</td>\n",
       "      <td>1207</td>\n",
       "      <td>4.4</td>\n",
       "      <td>520.3</td>\n",
       "      <td>2.3</td>\n",
       "    </tr>\n",
       "    <tr>\n",
       "      <th>1</th>\n",
       "      <td>2</td>\n",
       "      <td>State</td>\n",
       "      <td>Arunachal Pradesh</td>\n",
       "      <td>4</td>\n",
       "      <td>1</td>\n",
       "      <td>7</td>\n",
       "      <td>0.0</td>\n",
       "      <td>14.9</td>\n",
       "      <td>0.5</td>\n",
       "    </tr>\n",
       "    <tr>\n",
       "      <th>2</th>\n",
       "      <td>3</td>\n",
       "      <td>State</td>\n",
       "      <td>Assam</td>\n",
       "      <td>696</td>\n",
       "      <td>1120</td>\n",
       "      <td>2022</td>\n",
       "      <td>7.4</td>\n",
       "      <td>340.4</td>\n",
       "      <td>5.9</td>\n",
       "    </tr>\n",
       "    <tr>\n",
       "      <th>3</th>\n",
       "      <td>4</td>\n",
       "      <td>State</td>\n",
       "      <td>Bihar</td>\n",
       "      <td>309</td>\n",
       "      <td>433</td>\n",
       "      <td>374</td>\n",
       "      <td>1.4</td>\n",
       "      <td>1183.3</td>\n",
       "      <td>0.3</td>\n",
       "    </tr>\n",
       "    <tr>\n",
       "      <th>4</th>\n",
       "      <td>5</td>\n",
       "      <td>State</td>\n",
       "      <td>Chhattisgarh</td>\n",
       "      <td>90</td>\n",
       "      <td>171</td>\n",
       "      <td>139</td>\n",
       "      <td>0.5</td>\n",
       "      <td>284.7</td>\n",
       "      <td>0.5</td>\n",
       "    </tr>\n",
       "    <tr>\n",
       "      <th>5</th>\n",
       "      <td>6</td>\n",
       "      <td>State</td>\n",
       "      <td>Goa</td>\n",
       "      <td>31</td>\n",
       "      <td>13</td>\n",
       "      <td>29</td>\n",
       "      <td>0.1</td>\n",
       "      <td>15.3</td>\n",
       "      <td>1.9</td>\n",
       "    </tr>\n",
       "    <tr>\n",
       "      <th>6</th>\n",
       "      <td>7</td>\n",
       "      <td>State</td>\n",
       "      <td>Gujarat</td>\n",
       "      <td>362</td>\n",
       "      <td>458</td>\n",
       "      <td>702</td>\n",
       "      <td>2.6</td>\n",
       "      <td>673.2</td>\n",
       "      <td>1.0</td>\n",
       "    </tr>\n",
       "    <tr>\n",
       "      <th>7</th>\n",
       "      <td>8</td>\n",
       "      <td>State</td>\n",
       "      <td>Haryana</td>\n",
       "      <td>401</td>\n",
       "      <td>504</td>\n",
       "      <td>418</td>\n",
       "      <td>1.5</td>\n",
       "      <td>284.0</td>\n",
       "      <td>1.5</td>\n",
       "    </tr>\n",
       "    <tr>\n",
       "      <th>8</th>\n",
       "      <td>9</td>\n",
       "      <td>State</td>\n",
       "      <td>Himachal Pradesh</td>\n",
       "      <td>31</td>\n",
       "      <td>56</td>\n",
       "      <td>69</td>\n",
       "      <td>0.3</td>\n",
       "      <td>72.7</td>\n",
       "      <td>0.9</td>\n",
       "    </tr>\n",
       "    <tr>\n",
       "      <th>9</th>\n",
       "      <td>10</td>\n",
       "      <td>State</td>\n",
       "      <td>Jammu &amp; Kashmir</td>\n",
       "      <td>28</td>\n",
       "      <td>63</td>\n",
       "      <td>73</td>\n",
       "      <td>0.3</td>\n",
       "      <td>134.3</td>\n",
       "      <td>0.5</td>\n",
       "    </tr>\n",
       "    <tr>\n",
       "      <th>10</th>\n",
       "      <td>11</td>\n",
       "      <td>State</td>\n",
       "      <td>Jharkhand</td>\n",
       "      <td>259</td>\n",
       "      <td>720</td>\n",
       "      <td>930</td>\n",
       "      <td>3.4</td>\n",
       "      <td>370.5</td>\n",
       "      <td>2.5</td>\n",
       "    </tr>\n",
       "    <tr>\n",
       "      <th>11</th>\n",
       "      <td>12</td>\n",
       "      <td>State</td>\n",
       "      <td>Karnataka</td>\n",
       "      <td>1101</td>\n",
       "      <td>3174</td>\n",
       "      <td>5839</td>\n",
       "      <td>21.4</td>\n",
       "      <td>654.5</td>\n",
       "      <td>8.9</td>\n",
       "    </tr>\n",
       "    <tr>\n",
       "      <th>12</th>\n",
       "      <td>13</td>\n",
       "      <td>State</td>\n",
       "      <td>Kerala</td>\n",
       "      <td>283</td>\n",
       "      <td>320</td>\n",
       "      <td>340</td>\n",
       "      <td>1.2</td>\n",
       "      <td>350.0</td>\n",
       "      <td>1.0</td>\n",
       "    </tr>\n",
       "    <tr>\n",
       "      <th>13</th>\n",
       "      <td>14</td>\n",
       "      <td>State</td>\n",
       "      <td>Madhya Pradesh</td>\n",
       "      <td>258</td>\n",
       "      <td>490</td>\n",
       "      <td>740</td>\n",
       "      <td>2.7</td>\n",
       "      <td>814.7</td>\n",
       "      <td>0.9</td>\n",
       "    </tr>\n",
       "    <tr>\n",
       "      <th>14</th>\n",
       "      <td>15</td>\n",
       "      <td>State</td>\n",
       "      <td>Maharashtra</td>\n",
       "      <td>2380</td>\n",
       "      <td>3604</td>\n",
       "      <td>3511</td>\n",
       "      <td>12.9</td>\n",
       "      <td>1213.9</td>\n",
       "      <td>2.9</td>\n",
       "    </tr>\n",
       "    <tr>\n",
       "      <th>15</th>\n",
       "      <td>16</td>\n",
       "      <td>State</td>\n",
       "      <td>Manipur</td>\n",
       "      <td>11</td>\n",
       "      <td>74</td>\n",
       "      <td>29</td>\n",
       "      <td>0.1</td>\n",
       "      <td>30.8</td>\n",
       "      <td>0.9</td>\n",
       "    </tr>\n",
       "    <tr>\n",
       "      <th>16</th>\n",
       "      <td>17</td>\n",
       "      <td>State</td>\n",
       "      <td>Meghalaya</td>\n",
       "      <td>39</td>\n",
       "      <td>39</td>\n",
       "      <td>74</td>\n",
       "      <td>0.3</td>\n",
       "      <td>32.0</td>\n",
       "      <td>2.3</td>\n",
       "    </tr>\n",
       "    <tr>\n",
       "      <th>17</th>\n",
       "      <td>18</td>\n",
       "      <td>State</td>\n",
       "      <td>Mizoram</td>\n",
       "      <td>1</td>\n",
       "      <td>10</td>\n",
       "      <td>6</td>\n",
       "      <td>0.0</td>\n",
       "      <td>11.8</td>\n",
       "      <td>0.5</td>\n",
       "    </tr>\n",
       "    <tr>\n",
       "      <th>18</th>\n",
       "      <td>19</td>\n",
       "      <td>State</td>\n",
       "      <td>Nagaland</td>\n",
       "      <td>2</td>\n",
       "      <td>0</td>\n",
       "      <td>2</td>\n",
       "      <td>0.0</td>\n",
       "      <td>21.3</td>\n",
       "      <td>0.1</td>\n",
       "    </tr>\n",
       "    <tr>\n",
       "      <th>19</th>\n",
       "      <td>20</td>\n",
       "      <td>State</td>\n",
       "      <td>Odisha</td>\n",
       "      <td>317</td>\n",
       "      <td>824</td>\n",
       "      <td>843</td>\n",
       "      <td>3.1</td>\n",
       "      <td>435.5</td>\n",
       "      <td>1.9</td>\n",
       "    </tr>\n",
       "    <tr>\n",
       "      <th>20</th>\n",
       "      <td>21</td>\n",
       "      <td>State</td>\n",
       "      <td>Punjab</td>\n",
       "      <td>102</td>\n",
       "      <td>176</td>\n",
       "      <td>239</td>\n",
       "      <td>0.9</td>\n",
       "      <td>297.0</td>\n",
       "      <td>0.8</td>\n",
       "    </tr>\n",
       "    <tr>\n",
       "      <th>21</th>\n",
       "      <td>22</td>\n",
       "      <td>State</td>\n",
       "      <td>Rajasthan</td>\n",
       "      <td>941</td>\n",
       "      <td>1304</td>\n",
       "      <td>1104</td>\n",
       "      <td>4.1</td>\n",
       "      <td>765.9</td>\n",
       "      <td>1.4</td>\n",
       "    </tr>\n",
       "    <tr>\n",
       "      <th>22</th>\n",
       "      <td>23</td>\n",
       "      <td>State</td>\n",
       "      <td>Sikkim</td>\n",
       "      <td>1</td>\n",
       "      <td>1</td>\n",
       "      <td>1</td>\n",
       "      <td>0.0</td>\n",
       "      <td>6.6</td>\n",
       "      <td>0.2</td>\n",
       "    </tr>\n",
       "    <tr>\n",
       "      <th>23</th>\n",
       "      <td>24</td>\n",
       "      <td>State</td>\n",
       "      <td>Tamil Nadu</td>\n",
       "      <td>144</td>\n",
       "      <td>228</td>\n",
       "      <td>295</td>\n",
       "      <td>1.1</td>\n",
       "      <td>754.6</td>\n",
       "      <td>0.4</td>\n",
       "    </tr>\n",
       "    <tr>\n",
       "      <th>24</th>\n",
       "      <td>25</td>\n",
       "      <td>State</td>\n",
       "      <td>Telangana</td>\n",
       "      <td>593</td>\n",
       "      <td>1209</td>\n",
       "      <td>1205</td>\n",
       "      <td>4.4</td>\n",
       "      <td>370.3</td>\n",
       "      <td>3.3</td>\n",
       "    </tr>\n",
       "    <tr>\n",
       "      <th>25</th>\n",
       "      <td>26</td>\n",
       "      <td>State</td>\n",
       "      <td>Tripura</td>\n",
       "      <td>8</td>\n",
       "      <td>7</td>\n",
       "      <td>20</td>\n",
       "      <td>0.1</td>\n",
       "      <td>39.6</td>\n",
       "      <td>0.5</td>\n",
       "    </tr>\n",
       "    <tr>\n",
       "      <th>26</th>\n",
       "      <td>27</td>\n",
       "      <td>State</td>\n",
       "      <td>Uttar Pradesh</td>\n",
       "      <td>2639</td>\n",
       "      <td>4971</td>\n",
       "      <td>6280</td>\n",
       "      <td>23.0</td>\n",
       "      <td>2230.0</td>\n",
       "      <td>2.8</td>\n",
       "    </tr>\n",
       "    <tr>\n",
       "      <th>27</th>\n",
       "      <td>28</td>\n",
       "      <td>State</td>\n",
       "      <td>Uttarakhand</td>\n",
       "      <td>62</td>\n",
       "      <td>124</td>\n",
       "      <td>171</td>\n",
       "      <td>0.6</td>\n",
       "      <td>110.6</td>\n",
       "      <td>1.5</td>\n",
       "    </tr>\n",
       "    <tr>\n",
       "      <th>28</th>\n",
       "      <td>29</td>\n",
       "      <td>State</td>\n",
       "      <td>West Bengal</td>\n",
       "      <td>478</td>\n",
       "      <td>568</td>\n",
       "      <td>335</td>\n",
       "      <td>1.2</td>\n",
       "      <td>965.0</td>\n",
       "      <td>0.3</td>\n",
       "    </tr>\n",
       "    <tr>\n",
       "      <th>29</th>\n",
       "      <td>State</td>\n",
       "      <td>State</td>\n",
       "      <td>Total State(s)</td>\n",
       "      <td>12187</td>\n",
       "      <td>21593</td>\n",
       "      <td>27004</td>\n",
       "      <td>99.1</td>\n",
       "      <td>12997.9</td>\n",
       "      <td>2.1</td>\n",
       "    </tr>\n",
       "    <tr>\n",
       "      <th>30</th>\n",
       "      <td>30</td>\n",
       "      <td>Union Territory</td>\n",
       "      <td>A &amp; N Islands</td>\n",
       "      <td>3</td>\n",
       "      <td>3</td>\n",
       "      <td>7</td>\n",
       "      <td>0.0</td>\n",
       "      <td>4.0</td>\n",
       "      <td>1.8</td>\n",
       "    </tr>\n",
       "    <tr>\n",
       "      <th>31</th>\n",
       "      <td>31</td>\n",
       "      <td>Union Territory</td>\n",
       "      <td>Chandigarh</td>\n",
       "      <td>26</td>\n",
       "      <td>32</td>\n",
       "      <td>30</td>\n",
       "      <td>0.1</td>\n",
       "      <td>11.7</td>\n",
       "      <td>2.6</td>\n",
       "    </tr>\n",
       "    <tr>\n",
       "      <th>32</th>\n",
       "      <td>32</td>\n",
       "      <td>Union Territory</td>\n",
       "      <td>D&amp;N Haveli</td>\n",
       "      <td>1</td>\n",
       "      <td>1</td>\n",
       "      <td>0</td>\n",
       "      <td>0.0</td>\n",
       "      <td>5.3</td>\n",
       "      <td>0.0</td>\n",
       "    </tr>\n",
       "    <tr>\n",
       "      <th>33</th>\n",
       "      <td>33</td>\n",
       "      <td>Union Territory</td>\n",
       "      <td>Daman &amp; Diu</td>\n",
       "      <td>0</td>\n",
       "      <td>0</td>\n",
       "      <td>0</td>\n",
       "      <td>0.0</td>\n",
       "      <td>4.0</td>\n",
       "      <td>0.0</td>\n",
       "    </tr>\n",
       "    <tr>\n",
       "      <th>34</th>\n",
       "      <td>34</td>\n",
       "      <td>Union Territory</td>\n",
       "      <td>Delhi UT</td>\n",
       "      <td>98</td>\n",
       "      <td>162</td>\n",
       "      <td>189</td>\n",
       "      <td>0.7</td>\n",
       "      <td>195.6</td>\n",
       "      <td>1.0</td>\n",
       "    </tr>\n",
       "    <tr>\n",
       "      <th>35</th>\n",
       "      <td>35</td>\n",
       "      <td>Union Territory</td>\n",
       "      <td>Lakshadweep</td>\n",
       "      <td>0</td>\n",
       "      <td>0</td>\n",
       "      <td>4</td>\n",
       "      <td>0.0</td>\n",
       "      <td>0.7</td>\n",
       "      <td>6.0</td>\n",
       "    </tr>\n",
       "    <tr>\n",
       "      <th>36</th>\n",
       "      <td>36</td>\n",
       "      <td>Union Territory</td>\n",
       "      <td>Puducherry</td>\n",
       "      <td>2</td>\n",
       "      <td>5</td>\n",
       "      <td>14</td>\n",
       "      <td>0.1</td>\n",
       "      <td>14.8</td>\n",
       "      <td>0.9</td>\n",
       "    </tr>\n",
       "    <tr>\n",
       "      <th>37</th>\n",
       "      <td>Union Territory</td>\n",
       "      <td>Union Territory</td>\n",
       "      <td>Total UT(s)</td>\n",
       "      <td>130</td>\n",
       "      <td>203</td>\n",
       "      <td>244</td>\n",
       "      <td>0.9</td>\n",
       "      <td>236.0</td>\n",
       "      <td>1.0</td>\n",
       "    </tr>\n",
       "    <tr>\n",
       "      <th>38</th>\n",
       "      <td>Total (All India)</td>\n",
       "      <td>Total (All India)</td>\n",
       "      <td>Total (All India)</td>\n",
       "      <td>12317</td>\n",
       "      <td>21796</td>\n",
       "      <td>27248</td>\n",
       "      <td>100.0</td>\n",
       "      <td>13233.8</td>\n",
       "      <td>2.1</td>\n",
       "    </tr>\n",
       "  </tbody>\n",
       "</table>\n",
       "</div>"
      ],
      "text/plain": [
       "                S. No           Category           State/UT   2016   2017  \\\n",
       "0                   1              State     Andhra Pradesh    616    931   \n",
       "1                   2              State  Arunachal Pradesh      4      1   \n",
       "2                   3              State              Assam    696   1120   \n",
       "3                   4              State              Bihar    309    433   \n",
       "4                   5              State       Chhattisgarh     90    171   \n",
       "5                   6              State                Goa     31     13   \n",
       "6                   7              State            Gujarat    362    458   \n",
       "7                   8              State            Haryana    401    504   \n",
       "8                   9              State   Himachal Pradesh     31     56   \n",
       "9                  10              State    Jammu & Kashmir     28     63   \n",
       "10                 11              State          Jharkhand    259    720   \n",
       "11                 12              State          Karnataka   1101   3174   \n",
       "12                 13              State             Kerala    283    320   \n",
       "13                 14              State     Madhya Pradesh    258    490   \n",
       "14                 15              State        Maharashtra   2380   3604   \n",
       "15                 16              State            Manipur     11     74   \n",
       "16                 17              State          Meghalaya     39     39   \n",
       "17                 18              State            Mizoram      1     10   \n",
       "18                 19              State           Nagaland      2      0   \n",
       "19                 20              State             Odisha    317    824   \n",
       "20                 21              State             Punjab    102    176   \n",
       "21                 22              State          Rajasthan    941   1304   \n",
       "22                 23              State             Sikkim      1      1   \n",
       "23                 24              State         Tamil Nadu    144    228   \n",
       "24                 25              State          Telangana    593   1209   \n",
       "25                 26              State            Tripura      8      7   \n",
       "26                 27              State      Uttar Pradesh   2639   4971   \n",
       "27                 28              State        Uttarakhand     62    124   \n",
       "28                 29              State        West Bengal    478    568   \n",
       "29              State              State     Total State(s)  12187  21593   \n",
       "30                 30    Union Territory      A & N Islands      3      3   \n",
       "31                 31    Union Territory         Chandigarh     26     32   \n",
       "32                 32    Union Territory         D&N Haveli      1      1   \n",
       "33                 33    Union Territory        Daman & Diu      0      0   \n",
       "34                 34    Union Territory           Delhi UT     98    162   \n",
       "35                 35    Union Territory        Lakshadweep      0      0   \n",
       "36                 36    Union Territory         Puducherry      2      5   \n",
       "37    Union Territory    Union Territory        Total UT(s)    130    203   \n",
       "38  Total (All India)  Total (All India)  Total (All India)  12317  21796   \n",
       "\n",
       "     2018  Percentage Share of State/UT (2018)  \\\n",
       "0    1207                                  4.4   \n",
       "1       7                                  0.0   \n",
       "2    2022                                  7.4   \n",
       "3     374                                  1.4   \n",
       "4     139                                  0.5   \n",
       "5      29                                  0.1   \n",
       "6     702                                  2.6   \n",
       "7     418                                  1.5   \n",
       "8      69                                  0.3   \n",
       "9      73                                  0.3   \n",
       "10    930                                  3.4   \n",
       "11   5839                                 21.4   \n",
       "12    340                                  1.2   \n",
       "13    740                                  2.7   \n",
       "14   3511                                 12.9   \n",
       "15     29                                  0.1   \n",
       "16     74                                  0.3   \n",
       "17      6                                  0.0   \n",
       "18      2                                  0.0   \n",
       "19    843                                  3.1   \n",
       "20    239                                  0.9   \n",
       "21   1104                                  4.1   \n",
       "22      1                                  0.0   \n",
       "23    295                                  1.1   \n",
       "24   1205                                  4.4   \n",
       "25     20                                  0.1   \n",
       "26   6280                                 23.0   \n",
       "27    171                                  0.6   \n",
       "28    335                                  1.2   \n",
       "29  27004                                 99.1   \n",
       "30      7                                  0.0   \n",
       "31     30                                  0.1   \n",
       "32      0                                  0.0   \n",
       "33      0                                  0.0   \n",
       "34    189                                  0.7   \n",
       "35      4                                  0.0   \n",
       "36     14                                  0.1   \n",
       "37    244                                  0.9   \n",
       "38  27248                                100.0   \n",
       "\n",
       "    Mid-Year Projected Population (in Lakhs) (2018)+  \\\n",
       "0                                              520.3   \n",
       "1                                               14.9   \n",
       "2                                              340.4   \n",
       "3                                             1183.3   \n",
       "4                                              284.7   \n",
       "5                                               15.3   \n",
       "6                                              673.2   \n",
       "7                                              284.0   \n",
       "8                                               72.7   \n",
       "9                                              134.3   \n",
       "10                                             370.5   \n",
       "11                                             654.5   \n",
       "12                                             350.0   \n",
       "13                                             814.7   \n",
       "14                                            1213.9   \n",
       "15                                              30.8   \n",
       "16                                              32.0   \n",
       "17                                              11.8   \n",
       "18                                              21.3   \n",
       "19                                             435.5   \n",
       "20                                             297.0   \n",
       "21                                             765.9   \n",
       "22                                               6.6   \n",
       "23                                             754.6   \n",
       "24                                             370.3   \n",
       "25                                              39.6   \n",
       "26                                            2230.0   \n",
       "27                                             110.6   \n",
       "28                                             965.0   \n",
       "29                                           12997.9   \n",
       "30                                               4.0   \n",
       "31                                              11.7   \n",
       "32                                               5.3   \n",
       "33                                               4.0   \n",
       "34                                             195.6   \n",
       "35                                               0.7   \n",
       "36                                              14.8   \n",
       "37                                             236.0   \n",
       "38                                           13233.8   \n",
       "\n",
       "    Rate of Total Cyber Crimes (2018)++  \n",
       "0                                   2.3  \n",
       "1                                   0.5  \n",
       "2                                   5.9  \n",
       "3                                   0.3  \n",
       "4                                   0.5  \n",
       "5                                   1.9  \n",
       "6                                   1.0  \n",
       "7                                   1.5  \n",
       "8                                   0.9  \n",
       "9                                   0.5  \n",
       "10                                  2.5  \n",
       "11                                  8.9  \n",
       "12                                  1.0  \n",
       "13                                  0.9  \n",
       "14                                  2.9  \n",
       "15                                  0.9  \n",
       "16                                  2.3  \n",
       "17                                  0.5  \n",
       "18                                  0.1  \n",
       "19                                  1.9  \n",
       "20                                  0.8  \n",
       "21                                  1.4  \n",
       "22                                  0.2  \n",
       "23                                  0.4  \n",
       "24                                  3.3  \n",
       "25                                  0.5  \n",
       "26                                  2.8  \n",
       "27                                  1.5  \n",
       "28                                  0.3  \n",
       "29                                  2.1  \n",
       "30                                  1.8  \n",
       "31                                  2.6  \n",
       "32                                  0.0  \n",
       "33                                  0.0  \n",
       "34                                  1.0  \n",
       "35                                  6.0  \n",
       "36                                  0.9  \n",
       "37                                  1.0  \n",
       "38                                  2.1  "
      ]
     },
     "execution_count": 52,
     "metadata": {},
     "output_type": "execute_result"
    }
   ],
   "source": [
    "crime_data"
   ]
  },
  {
   "cell_type": "code",
   "execution_count": null,
   "id": "25cc529b",
   "metadata": {},
   "outputs": [],
   "source": [
    "# As row number 29,37,38 contains difernt sr.no we remove it"
   ]
  },
  {
   "cell_type": "code",
   "execution_count": 53,
   "id": "67f02d76",
   "metadata": {},
   "outputs": [],
   "source": [
    "crime_data = crime_data.drop(labels=[29],axis=0)"
   ]
  },
  {
   "cell_type": "code",
   "execution_count": 54,
   "id": "54c80b36",
   "metadata": {},
   "outputs": [],
   "source": [
    "crime_data = crime_data.drop(labels=[37,38],axis=0)"
   ]
  },
  {
   "cell_type": "code",
   "execution_count": 55,
   "id": "822298e2",
   "metadata": {},
   "outputs": [],
   "source": [
    "# year-2016 and category (State vs Union Territory) comparison using barplot"
   ]
  },
  {
   "cell_type": "code",
   "execution_count": 56,
   "id": "ddaaaef6",
   "metadata": {},
   "outputs": [
    {
     "data": {
      "image/png": "[encoded data removed]",
      "text/plain": [
       "<Figure size 1080x432 with 1 Axes>"
      ]
     },
     "metadata": {
      "needs_background": "light"
     },
     "output_type": "display_data"
    }
   ],
   "source": [
    "plt.figure(figsize=(15,6))\n",
    "sns.barplot(x = 'Category', y = '2016', data=crime_data, palette='hls')\n",
    "plt.xticks(rotation = 90)\n",
    "plt.show()"
   ]
  },
  {
   "cell_type": "code",
   "execution_count": null,
   "id": "f73a259d",
   "metadata": {},
   "outputs": [],
   "source": [
    "# year-2016 and State/UT comparison using barplot"
   ]
  },
  {
   "cell_type": "code",
   "execution_count": 57,
   "id": "910ffeef",
   "metadata": {},
   "outputs": [
    {
     "data": {
      "image/png": "[encoded data removed]",
      "text/plain": [
       "<Figure size 1080x432 with 1 Axes>"
      ]
     },
     "metadata": {
      "needs_background": "light"
     },
     "output_type": "display_data"
    }
   ],
   "source": [
    "plt.figure(figsize=(15,6))\n",
    "sns.barplot(x = 'State/UT', y = '2016', data=crime_data, palette='hls')\n",
    "plt.xticks(rotation = 90)\n",
    "plt.show()"
   ]
  },
  {
   "cell_type": "code",
   "execution_count": null,
   "id": "8301e7c1",
   "metadata": {},
   "outputs": [],
   "source": [
    "# year-2017 and Category (State vs Union Territory) comparison using barplot"
   ]
  },
  {
   "cell_type": "code",
   "execution_count": 60,
   "id": "f3ea7104",
   "metadata": {},
   "outputs": [
    {
     "data": {
      "image/png": "[encoded data removed]",
      "text/plain": [
       "<Figure size 1080x432 with 1 Axes>"
      ]
     },
     "metadata": {
      "needs_background": "light"
     },
     "output_type": "display_data"
    }
   ],
   "source": [
    "plt.figure(figsize=(15,6))\n",
    "sns.barplot(x = 'Category', y = '2017', data=crime_data, palette='hls')\n",
    "plt.xticks(rotation = 90)\n",
    "plt.show()"
   ]
  },
  {
   "cell_type": "code",
   "execution_count": null,
   "id": "62022689",
   "metadata": {},
   "outputs": [],
   "source": [
    "# year-2017 and State/UT comparison using barplot"
   ]
  },
  {
   "cell_type": "code",
   "execution_count": 61,
   "id": "c47ec3cb",
   "metadata": {},
   "outputs": [
    {
     "data": {
      "image/png": "[encoded data removed]",
      "text/plain": [
       "<Figure size 1080x432 with 1 Axes>"
      ]
     },
     "metadata": {
      "needs_background": "light"
     },
     "output_type": "display_data"
    }
   ],
   "source": [
    "plt.figure(figsize=(15,6))\n",
    "sns.barplot(x = 'State/UT', y = '2017', data=crime_data, palette='hls')\n",
    "plt.xticks(rotation = 90)\n",
    "plt.show()"
   ]
  },
  {
   "cell_type": "code",
   "execution_count": null,
   "id": "fc837d9f",
   "metadata": {},
   "outputs": [],
   "source": [
    "# year-2018 and Category (State vs Union Territory) comparison using barplot"
   ]
  },
  {
   "cell_type": "code",
   "execution_count": 62,
   "id": "877c1b58",
   "metadata": {},
   "outputs": [
    {
     "data": {
      "image/png": "[encoded data removed]",
      "text/plain": [
       "<Figure size 1080x432 with 1 Axes>"
      ]
     },
     "metadata": {
      "needs_background": "light"
     },
     "output_type": "display_data"
    }
   ],
   "source": [
    "plt.figure(figsize=(15,6))\n",
    "sns.barplot(x = 'Category', y = '2018', data=crime_data, palette='hls')\n",
    "plt.xticks(rotation = 90)\n",
    "plt.show()"
   ]
  },
  {
   "cell_type": "code",
   "execution_count": null,
   "id": "ea0db1b5",
   "metadata": {},
   "outputs": [],
   "source": [
    "# year-2018 and State/UT comparison using barplot"
   ]
  },
  {
   "cell_type": "code",
   "execution_count": 63,
   "id": "db011678",
   "metadata": {},
   "outputs": [
    {
     "data": {
      "image/png": "[encoded data removed]",
      "text/plain": [
       "<Figure size 1080x432 with 1 Axes>"
      ]
     },
     "metadata": {
      "needs_background": "light"
     },
     "output_type": "display_data"
    }
   ],
   "source": [
    "plt.figure(figsize=(15,6))\n",
    "sns.barplot(x = 'State/UT', y = '2018', data=crime_data, palette='hls')\n",
    "plt.xticks(rotation = 90)\n",
    "plt.show()"
   ]
  },
  {
   "cell_type": "code",
   "execution_count": 64,
   "id": "912e6866",
   "metadata": {},
   "outputs": [
    {
     "data": {
      "text/html": [
       "<div>\n",
       "<style scoped>\n",
       "    .dataframe tbody tr th:only-of-type {\n",
       "        vertical-align: middle;\n",
       "    }\n",
       "\n",
       "    .dataframe tbody tr th {\n",
       "        vertical-align: top;\n",
       "    }\n",
       "\n",
       "    .dataframe thead th {\n",
       "        text-align: right;\n",
       "    }\n",
       "</style>\n",
       "<table border=\"1\" class=\"dataframe\">\n",
       "  <thead>\n",
       "    <tr style=\"text-align: right;\">\n",
       "      <th></th>\n",
       "      <th>S. No</th>\n",
       "      <th>Category</th>\n",
       "      <th>State/UT</th>\n",
       "      <th>2016</th>\n",
       "      <th>2017</th>\n",
       "      <th>2018</th>\n",
       "      <th>Percentage Share of State/UT (2018)</th>\n",
       "      <th>Mid-Year Projected Population (in Lakhs) (2018)+</th>\n",
       "      <th>Rate of Total Cyber Crimes (2018)++</th>\n",
       "    </tr>\n",
       "  </thead>\n",
       "  <tbody>\n",
       "    <tr>\n",
       "      <th>0</th>\n",
       "      <td>1</td>\n",
       "      <td>State</td>\n",
       "      <td>Andhra Pradesh</td>\n",
       "      <td>616</td>\n",
       "      <td>931</td>\n",
       "      <td>1207</td>\n",
       "      <td>4.4</td>\n",
       "      <td>520.3</td>\n",
       "      <td>2.3</td>\n",
       "    </tr>\n",
       "    <tr>\n",
       "      <th>1</th>\n",
       "      <td>2</td>\n",
       "      <td>State</td>\n",
       "      <td>Arunachal Pradesh</td>\n",
       "      <td>4</td>\n",
       "      <td>1</td>\n",
       "      <td>7</td>\n",
       "      <td>0.0</td>\n",
       "      <td>14.9</td>\n",
       "      <td>0.5</td>\n",
       "    </tr>\n",
       "    <tr>\n",
       "      <th>2</th>\n",
       "      <td>3</td>\n",
       "      <td>State</td>\n",
       "      <td>Assam</td>\n",
       "      <td>696</td>\n",
       "      <td>1120</td>\n",
       "      <td>2022</td>\n",
       "      <td>7.4</td>\n",
       "      <td>340.4</td>\n",
       "      <td>5.9</td>\n",
       "    </tr>\n",
       "    <tr>\n",
       "      <th>3</th>\n",
       "      <td>4</td>\n",
       "      <td>State</td>\n",
       "      <td>Bihar</td>\n",
       "      <td>309</td>\n",
       "      <td>433</td>\n",
       "      <td>374</td>\n",
       "      <td>1.4</td>\n",
       "      <td>1183.3</td>\n",
       "      <td>0.3</td>\n",
       "    </tr>\n",
       "    <tr>\n",
       "      <th>4</th>\n",
       "      <td>5</td>\n",
       "      <td>State</td>\n",
       "      <td>Chhattisgarh</td>\n",
       "      <td>90</td>\n",
       "      <td>171</td>\n",
       "      <td>139</td>\n",
       "      <td>0.5</td>\n",
       "      <td>284.7</td>\n",
       "      <td>0.5</td>\n",
       "    </tr>\n",
       "  </tbody>\n",
       "</table>\n",
       "</div>"
      ],
      "text/plain": [
       "  S. No Category           State/UT  2016  2017  2018  \\\n",
       "0     1    State     Andhra Pradesh   616   931  1207   \n",
       "1     2    State  Arunachal Pradesh     4     1     7   \n",
       "2     3    State              Assam   696  1120  2022   \n",
       "3     4    State              Bihar   309   433   374   \n",
       "4     5    State       Chhattisgarh    90   171   139   \n",
       "\n",
       "   Percentage Share of State/UT (2018)  \\\n",
       "0                                  4.4   \n",
       "1                                  0.0   \n",
       "2                                  7.4   \n",
       "3                                  1.4   \n",
       "4                                  0.5   \n",
       "\n",
       "   Mid-Year Projected Population (in Lakhs) (2018)+  \\\n",
       "0                                             520.3   \n",
       "1                                              14.9   \n",
       "2                                             340.4   \n",
       "3                                            1183.3   \n",
       "4                                             284.7   \n",
       "\n",
       "   Rate of Total Cyber Crimes (2018)++  \n",
       "0                                  2.3  \n",
       "1                                  0.5  \n",
       "2                                  5.9  \n",
       "3                                  0.3  \n",
       "4                                  0.5  "
      ]
     },
     "execution_count": 64,
     "metadata": {},
     "output_type": "execute_result"
    }
   ],
   "source": [
    "crime_data.head()"
   ]
  },
  {
   "cell_type": "code",
   "execution_count": null,
   "id": "d524d6b2",
   "metadata": {},
   "outputs": [],
   "source": [
    "#Lets change (rename) column name for better analysis and for handling "
   ]
  },
  {
   "cell_type": "code",
   "execution_count": 67,
   "id": "a0f59910",
   "metadata": {},
   "outputs": [],
   "source": [
    "crime_data.rename(columns={'Percentage Share of State/UT (2018)': 'Percentage_Share', 'Mid-Year Projected Population (in Lakhs) (2018)+':'Projected_Population','Rate of Total Cyber Crimes (2018)++':'Rate_cyber_crime_2018'},inplace=True)"
   ]
  },
  {
   "cell_type": "code",
   "execution_count": 68,
   "id": "84e158c6",
   "metadata": {},
   "outputs": [
    {
     "data": {
      "text/html": [
       "<div>\n",
       "<style scoped>\n",
       "    .dataframe tbody tr th:only-of-type {\n",
       "        vertical-align: middle;\n",
       "    }\n",
       "\n",
       "    .dataframe tbody tr th {\n",
       "        vertical-align: top;\n",
       "    }\n",
       "\n",
       "    .dataframe thead th {\n",
       "        text-align: right;\n",
       "    }\n",
       "</style>\n",
       "<table border=\"1\" class=\"dataframe\">\n",
       "  <thead>\n",
       "    <tr style=\"text-align: right;\">\n",
       "      <th></th>\n",
       "      <th>S. No</th>\n",
       "      <th>Category</th>\n",
       "      <th>State/UT</th>\n",
       "      <th>2016</th>\n",
       "      <th>2017</th>\n",
       "      <th>2018</th>\n",
       "      <th>Percentage_Share</th>\n",
       "      <th>Projected_Population</th>\n",
       "      <th>Rate_cyber_crime_2018</th>\n",
       "    </tr>\n",
       "  </thead>\n",
       "  <tbody>\n",
       "    <tr>\n",
       "      <th>0</th>\n",
       "      <td>1</td>\n",
       "      <td>State</td>\n",
       "      <td>Andhra Pradesh</td>\n",
       "      <td>616</td>\n",
       "      <td>931</td>\n",
       "      <td>1207</td>\n",
       "      <td>4.4</td>\n",
       "      <td>520.3</td>\n",
       "      <td>2.3</td>\n",
       "    </tr>\n",
       "    <tr>\n",
       "      <th>1</th>\n",
       "      <td>2</td>\n",
       "      <td>State</td>\n",
       "      <td>Arunachal Pradesh</td>\n",
       "      <td>4</td>\n",
       "      <td>1</td>\n",
       "      <td>7</td>\n",
       "      <td>0.0</td>\n",
       "      <td>14.9</td>\n",
       "      <td>0.5</td>\n",
       "    </tr>\n",
       "    <tr>\n",
       "      <th>2</th>\n",
       "      <td>3</td>\n",
       "      <td>State</td>\n",
       "      <td>Assam</td>\n",
       "      <td>696</td>\n",
       "      <td>1120</td>\n",
       "      <td>2022</td>\n",
       "      <td>7.4</td>\n",
       "      <td>340.4</td>\n",
       "      <td>5.9</td>\n",
       "    </tr>\n",
       "    <tr>\n",
       "      <th>3</th>\n",
       "      <td>4</td>\n",
       "      <td>State</td>\n",
       "      <td>Bihar</td>\n",
       "      <td>309</td>\n",
       "      <td>433</td>\n",
       "      <td>374</td>\n",
       "      <td>1.4</td>\n",
       "      <td>1183.3</td>\n",
       "      <td>0.3</td>\n",
       "    </tr>\n",
       "    <tr>\n",
       "      <th>4</th>\n",
       "      <td>5</td>\n",
       "      <td>State</td>\n",
       "      <td>Chhattisgarh</td>\n",
       "      <td>90</td>\n",
       "      <td>171</td>\n",
       "      <td>139</td>\n",
       "      <td>0.5</td>\n",
       "      <td>284.7</td>\n",
       "      <td>0.5</td>\n",
       "    </tr>\n",
       "  </tbody>\n",
       "</table>\n",
       "</div>"
      ],
      "text/plain": [
       "  S. No Category           State/UT  2016  2017  2018  Percentage_Share  \\\n",
       "0     1    State     Andhra Pradesh   616   931  1207               4.4   \n",
       "1     2    State  Arunachal Pradesh     4     1     7               0.0   \n",
       "2     3    State              Assam   696  1120  2022               7.4   \n",
       "3     4    State              Bihar   309   433   374               1.4   \n",
       "4     5    State       Chhattisgarh    90   171   139               0.5   \n",
       "\n",
       "   Projected_Population  Rate_cyber_crime_2018  \n",
       "0                 520.3                    2.3  \n",
       "1                  14.9                    0.5  \n",
       "2                 340.4                    5.9  \n",
       "3                1183.3                    0.3  \n",
       "4                 284.7                    0.5  "
      ]
     },
     "execution_count": 68,
     "metadata": {},
     "output_type": "execute_result"
    }
   ],
   "source": [
    "crime_data.head()"
   ]
  },
  {
   "cell_type": "code",
   "execution_count": null,
   "id": "3100805e",
   "metadata": {},
   "outputs": [],
   "source": [
    "#  Percentag_Share for 2018"
   ]
  },
  {
   "cell_type": "code",
   "execution_count": 69,
   "id": "349af247",
   "metadata": {},
   "outputs": [
    {
     "data": {
      "image/png": "[encoded data removed]",
      "text/plain": [
       "<Figure size 1080x432 with 1 Axes>"
      ]
     },
     "metadata": {
      "needs_background": "light"
     },
     "output_type": "display_data"
    }
   ],
   "source": [
    "plt.figure(figsize=(15,6))\n",
    "sns.barplot(x = 'Category', y = 'Percentage_Share', data=crime_data, palette='hls')\n",
    "plt.xticks(rotation = 90)\n",
    "plt.show()"
   ]
  },
  {
   "cell_type": "code",
   "execution_count": 70,
   "id": "5d29e339",
   "metadata": {},
   "outputs": [
    {
     "data": {
      "image/png": "[encoded data removed]",
      "text/plain": [
       "<Figure size 1080x432 with 1 Axes>"
      ]
     },
     "metadata": {
      "needs_background": "light"
     },
     "output_type": "display_data"
    }
   ],
   "source": [
    "# Percentag_Share for 2018\n",
    "\n",
    "plt.figure(figsize=(15,6))\n",
    "sns.barplot(x = 'State/UT', y = 'Percentage_Share', data=crime_data, palette='hls')\n",
    "plt.xticks(rotation = 90)\n",
    "plt.show()"
   ]
  },
  {
   "cell_type": "code",
   "execution_count": 71,
   "id": "dcba693c",
   "metadata": {},
   "outputs": [
    {
     "data": {
      "image/png": "[encoded data removed]",
      "text/plain": [
       "<Figure size 1080x432 with 1 Axes>"
      ]
     },
     "metadata": {
      "needs_background": "light"
     },
     "output_type": "display_data"
    }
   ],
   "source": [
    "# Projected Population for 2018\n",
    "\n",
    "plt.figure(figsize=(15,6))\n",
    "sns.barplot(x = 'Category', y = 'Projected_Population', data=crime_data, palette='hls')\n",
    "plt.xticks(rotation = 90)\n",
    "plt.show()"
   ]
  },
  {
   "cell_type": "code",
   "execution_count": 72,
   "id": "915e5bae",
   "metadata": {},
   "outputs": [
    {
     "data": {
      "image/png": "[encoded data removed]",
      "text/plain": [
       "<Figure size 1080x432 with 1 Axes>"
      ]
     },
     "metadata": {
      "needs_background": "light"
     },
     "output_type": "display_data"
    }
   ],
   "source": [
    "# Projected Population for 2018\n",
    "\n",
    "plt.figure(figsize=(15,6))\n",
    "sns.barplot(x = 'State/UT', y = 'Projected_Population', data=crime_data, palette='hls')\n",
    "plt.xticks(rotation = 90)\n",
    "plt.show()"
   ]
  },
  {
   "cell_type": "code",
   "execution_count": 73,
   "id": "2669be38",
   "metadata": {},
   "outputs": [
    {
     "data": {
      "image/png": "[encoded data removed]",
      "text/plain": [
       "<Figure size 1080x432 with 1 Axes>"
      ]
     },
     "metadata": {
      "needs_background": "light"
     },
     "output_type": "display_data"
    }
   ],
   "source": [
    "# rate_cyber crime in 2018\n",
    "\n",
    "plt.figure(figsize=(15,6))\n",
    "sns.barplot(x = 'Category', y = 'Rate_cyber_crime_2018', data=crime_data, palette='hls')\n",
    "plt.xticks(rotation = 90)\n",
    "plt.show()"
   ]
  },
  {
   "cell_type": "code",
   "execution_count": 74,
   "id": "a22b2505",
   "metadata": {},
   "outputs": [
    {
     "data": {
      "image/png": "[encoded data removed]",
      "text/plain": [
       "<Figure size 1080x432 with 1 Axes>"
      ]
     },
     "metadata": {
      "needs_background": "light"
     },
     "output_type": "display_data"
    }
   ],
   "source": [
    "# rate_cyber crime in 2018\n",
    "\n",
    "plt.figure(figsize=(15,6))\n",
    "sns.barplot(x = 'State/UT', y = 'Rate_cyber_crime_2018', data=crime_data, palette='hls')\n",
    "plt.xticks(rotation = 90)\n",
    "plt.show()"
   ]
  },
  {
   "cell_type": "code",
   "execution_count": null,
   "id": "e9f47f1f",
   "metadata": {},
   "outputs": [],
   "source": [
    "#"
   ]
  },
  {
   "cell_type": "code",
   "execution_count": 75,
   "id": "67eb654d",
   "metadata": {},
   "outputs": [],
   "source": [
    "crime_data['Total']= crime_data['2016']+crime_data['2017']+crime_data['2018']"
   ]
  },
  {
   "cell_type": "code",
   "execution_count": 76,
   "id": "de1712b2",
   "metadata": {},
   "outputs": [
    {
     "data": {
      "text/html": [
       "<div>\n",
       "<style scoped>\n",
       "    .dataframe tbody tr th:only-of-type {\n",
       "        vertical-align: middle;\n",
       "    }\n",
       "\n",
       "    .dataframe tbody tr th {\n",
       "        vertical-align: top;\n",
       "    }\n",
       "\n",
       "    .dataframe thead th {\n",
       "        text-align: right;\n",
       "    }\n",
       "</style>\n",
       "<table border=\"1\" class=\"dataframe\">\n",
       "  <thead>\n",
       "    <tr style=\"text-align: right;\">\n",
       "      <th></th>\n",
       "      <th>S. No</th>\n",
       "      <th>Category</th>\n",
       "      <th>State/UT</th>\n",
       "      <th>2016</th>\n",
       "      <th>2017</th>\n",
       "      <th>2018</th>\n",
       "      <th>Percentage_Share</th>\n",
       "      <th>Projected_Population</th>\n",
       "      <th>Rate_cyber_crime_2018</th>\n",
       "      <th>Total</th>\n",
       "    </tr>\n",
       "  </thead>\n",
       "  <tbody>\n",
       "    <tr>\n",
       "      <th>0</th>\n",
       "      <td>1</td>\n",
       "      <td>State</td>\n",
       "      <td>Andhra Pradesh</td>\n",
       "      <td>616</td>\n",
       "      <td>931</td>\n",
       "      <td>1207</td>\n",
       "      <td>4.4</td>\n",
       "      <td>520.3</td>\n",
       "      <td>2.3</td>\n",
       "      <td>2754</td>\n",
       "    </tr>\n",
       "    <tr>\n",
       "      <th>1</th>\n",
       "      <td>2</td>\n",
       "      <td>State</td>\n",
       "      <td>Arunachal Pradesh</td>\n",
       "      <td>4</td>\n",
       "      <td>1</td>\n",
       "      <td>7</td>\n",
       "      <td>0.0</td>\n",
       "      <td>14.9</td>\n",
       "      <td>0.5</td>\n",
       "      <td>12</td>\n",
       "    </tr>\n",
       "  </tbody>\n",
       "</table>\n",
       "</div>"
      ],
      "text/plain": [
       "  S. No Category           State/UT  2016  2017  2018  Percentage_Share  \\\n",
       "0     1    State     Andhra Pradesh   616   931  1207               4.4   \n",
       "1     2    State  Arunachal Pradesh     4     1     7               0.0   \n",
       "\n",
       "   Projected_Population  Rate_cyber_crime_2018  Total  \n",
       "0                 520.3                    2.3   2754  \n",
       "1                  14.9                    0.5     12  "
      ]
     },
     "execution_count": 76,
     "metadata": {},
     "output_type": "execute_result"
    }
   ],
   "source": [
    "crime_data.head(2)"
   ]
  },
  {
   "cell_type": "code",
   "execution_count": 78,
   "id": "7ea10102",
   "metadata": {},
   "outputs": [
    {
     "data": {
      "text/html": [
       "<div>\n",
       "<style scoped>\n",
       "    .dataframe tbody tr th:only-of-type {\n",
       "        vertical-align: middle;\n",
       "    }\n",
       "\n",
       "    .dataframe tbody tr th {\n",
       "        vertical-align: top;\n",
       "    }\n",
       "\n",
       "    .dataframe thead th {\n",
       "        text-align: right;\n",
       "    }\n",
       "</style>\n",
       "<table border=\"1\" class=\"dataframe\">\n",
       "  <thead>\n",
       "    <tr style=\"text-align: right;\">\n",
       "      <th></th>\n",
       "      <th>2016</th>\n",
       "      <th>2017</th>\n",
       "      <th>2018</th>\n",
       "    </tr>\n",
       "  </thead>\n",
       "  <tbody>\n",
       "    <tr>\n",
       "      <th>0</th>\n",
       "      <td>616</td>\n",
       "      <td>931</td>\n",
       "      <td>1207</td>\n",
       "    </tr>\n",
       "    <tr>\n",
       "      <th>1</th>\n",
       "      <td>4</td>\n",
       "      <td>1</td>\n",
       "      <td>7</td>\n",
       "    </tr>\n",
       "    <tr>\n",
       "      <th>2</th>\n",
       "      <td>696</td>\n",
       "      <td>1120</td>\n",
       "      <td>2022</td>\n",
       "    </tr>\n",
       "    <tr>\n",
       "      <th>3</th>\n",
       "      <td>309</td>\n",
       "      <td>433</td>\n",
       "      <td>374</td>\n",
       "    </tr>\n",
       "    <tr>\n",
       "      <th>4</th>\n",
       "      <td>90</td>\n",
       "      <td>171</td>\n",
       "      <td>139</td>\n",
       "    </tr>\n",
       "  </tbody>\n",
       "</table>\n",
       "</div>"
      ],
      "text/plain": [
       "   2016  2017  2018\n",
       "0   616   931  1207\n",
       "1     4     1     7\n",
       "2   696  1120  2022\n",
       "3   309   433   374\n",
       "4    90   171   139"
      ]
     },
     "execution_count": 78,
     "metadata": {},
     "output_type": "execute_result"
    }
   ],
   "source": [
    "crime_data_new = crime_data[['2016','2017','2018']]\n",
    "crime_data_new.head()"
   ]
  },
  {
   "cell_type": "code",
   "execution_count": 79,
   "id": "34ab9d75",
   "metadata": {},
   "outputs": [],
   "source": [
    "crime_data_new= crime_data_new.transpose()"
   ]
  },
  {
   "cell_type": "code",
   "execution_count": 80,
   "id": "5aa3d577",
   "metadata": {},
   "outputs": [
    {
     "data": {
      "text/html": [
       "<div>\n",
       "<style scoped>\n",
       "    .dataframe tbody tr th:only-of-type {\n",
       "        vertical-align: middle;\n",
       "    }\n",
       "\n",
       "    .dataframe tbody tr th {\n",
       "        vertical-align: top;\n",
       "    }\n",
       "\n",
       "    .dataframe thead th {\n",
       "        text-align: right;\n",
       "    }\n",
       "</style>\n",
       "<table border=\"1\" class=\"dataframe\">\n",
       "  <thead>\n",
       "    <tr style=\"text-align: right;\">\n",
       "      <th></th>\n",
       "      <th>0</th>\n",
       "      <th>1</th>\n",
       "      <th>2</th>\n",
       "      <th>3</th>\n",
       "      <th>4</th>\n",
       "      <th>5</th>\n",
       "      <th>6</th>\n",
       "      <th>7</th>\n",
       "      <th>8</th>\n",
       "      <th>9</th>\n",
       "      <th>...</th>\n",
       "      <th>26</th>\n",
       "      <th>27</th>\n",
       "      <th>28</th>\n",
       "      <th>30</th>\n",
       "      <th>31</th>\n",
       "      <th>32</th>\n",
       "      <th>33</th>\n",
       "      <th>34</th>\n",
       "      <th>35</th>\n",
       "      <th>36</th>\n",
       "    </tr>\n",
       "  </thead>\n",
       "  <tbody>\n",
       "    <tr>\n",
       "      <th>2016</th>\n",
       "      <td>616</td>\n",
       "      <td>4</td>\n",
       "      <td>696</td>\n",
       "      <td>309</td>\n",
       "      <td>90</td>\n",
       "      <td>31</td>\n",
       "      <td>362</td>\n",
       "      <td>401</td>\n",
       "      <td>31</td>\n",
       "      <td>28</td>\n",
       "      <td>...</td>\n",
       "      <td>2639</td>\n",
       "      <td>62</td>\n",
       "      <td>478</td>\n",
       "      <td>3</td>\n",
       "      <td>26</td>\n",
       "      <td>1</td>\n",
       "      <td>0</td>\n",
       "      <td>98</td>\n",
       "      <td>0</td>\n",
       "      <td>2</td>\n",
       "    </tr>\n",
       "    <tr>\n",
       "      <th>2017</th>\n",
       "      <td>931</td>\n",
       "      <td>1</td>\n",
       "      <td>1120</td>\n",
       "      <td>433</td>\n",
       "      <td>171</td>\n",
       "      <td>13</td>\n",
       "      <td>458</td>\n",
       "      <td>504</td>\n",
       "      <td>56</td>\n",
       "      <td>63</td>\n",
       "      <td>...</td>\n",
       "      <td>4971</td>\n",
       "      <td>124</td>\n",
       "      <td>568</td>\n",
       "      <td>3</td>\n",
       "      <td>32</td>\n",
       "      <td>1</td>\n",
       "      <td>0</td>\n",
       "      <td>162</td>\n",
       "      <td>0</td>\n",
       "      <td>5</td>\n",
       "    </tr>\n",
       "    <tr>\n",
       "      <th>2018</th>\n",
       "      <td>1207</td>\n",
       "      <td>7</td>\n",
       "      <td>2022</td>\n",
       "      <td>374</td>\n",
       "      <td>139</td>\n",
       "      <td>29</td>\n",
       "      <td>702</td>\n",
       "      <td>418</td>\n",
       "      <td>69</td>\n",
       "      <td>73</td>\n",
       "      <td>...</td>\n",
       "      <td>6280</td>\n",
       "      <td>171</td>\n",
       "      <td>335</td>\n",
       "      <td>7</td>\n",
       "      <td>30</td>\n",
       "      <td>0</td>\n",
       "      <td>0</td>\n",
       "      <td>189</td>\n",
       "      <td>4</td>\n",
       "      <td>14</td>\n",
       "    </tr>\n",
       "  </tbody>\n",
       "</table>\n",
       "<p>3 rows × 36 columns</p>\n",
       "</div>"
      ],
      "text/plain": [
       "        0   1     2    3    4   5    6    7   8   9   ...    26   27   28  30  \\\n",
       "2016   616   4   696  309   90  31  362  401  31  28  ...  2639   62  478   3   \n",
       "2017   931   1  1120  433  171  13  458  504  56  63  ...  4971  124  568   3   \n",
       "2018  1207   7  2022  374  139  29  702  418  69  73  ...  6280  171  335   7   \n",
       "\n",
       "      31  32  33   34  35  36  \n",
       "2016  26   1   0   98   0   2  \n",
       "2017  32   1   0  162   0   5  \n",
       "2018  30   0   0  189   4  14  \n",
       "\n",
       "[3 rows x 36 columns]"
      ]
     },
     "execution_count": 80,
     "metadata": {},
     "output_type": "execute_result"
    }
   ],
   "source": [
    "crime_data_new.head()"
   ]
  },
  {
   "cell_type": "code",
   "execution_count": 81,
   "id": "50c495f0",
   "metadata": {},
   "outputs": [],
   "source": [
    "crime_data_new= crime_data_new.reset_index()"
   ]
  },
  {
   "cell_type": "code",
   "execution_count": 82,
   "id": "78cb699f",
   "metadata": {},
   "outputs": [
    {
     "data": {
      "text/html": [
       "<div>\n",
       "<style scoped>\n",
       "    .dataframe tbody tr th:only-of-type {\n",
       "        vertical-align: middle;\n",
       "    }\n",
       "\n",
       "    .dataframe tbody tr th {\n",
       "        vertical-align: top;\n",
       "    }\n",
       "\n",
       "    .dataframe thead th {\n",
       "        text-align: right;\n",
       "    }\n",
       "</style>\n",
       "<table border=\"1\" class=\"dataframe\">\n",
       "  <thead>\n",
       "    <tr style=\"text-align: right;\">\n",
       "      <th></th>\n",
       "      <th>index</th>\n",
       "      <th>0</th>\n",
       "      <th>1</th>\n",
       "      <th>2</th>\n",
       "      <th>3</th>\n",
       "      <th>4</th>\n",
       "      <th>5</th>\n",
       "      <th>6</th>\n",
       "      <th>7</th>\n",
       "      <th>8</th>\n",
       "      <th>...</th>\n",
       "      <th>26</th>\n",
       "      <th>27</th>\n",
       "      <th>28</th>\n",
       "      <th>30</th>\n",
       "      <th>31</th>\n",
       "      <th>32</th>\n",
       "      <th>33</th>\n",
       "      <th>34</th>\n",
       "      <th>35</th>\n",
       "      <th>36</th>\n",
       "    </tr>\n",
       "  </thead>\n",
       "  <tbody>\n",
       "    <tr>\n",
       "      <th>0</th>\n",
       "      <td>2016</td>\n",
       "      <td>616</td>\n",
       "      <td>4</td>\n",
       "      <td>696</td>\n",
       "      <td>309</td>\n",
       "      <td>90</td>\n",
       "      <td>31</td>\n",
       "      <td>362</td>\n",
       "      <td>401</td>\n",
       "      <td>31</td>\n",
       "      <td>...</td>\n",
       "      <td>2639</td>\n",
       "      <td>62</td>\n",
       "      <td>478</td>\n",
       "      <td>3</td>\n",
       "      <td>26</td>\n",
       "      <td>1</td>\n",
       "      <td>0</td>\n",
       "      <td>98</td>\n",
       "      <td>0</td>\n",
       "      <td>2</td>\n",
       "    </tr>\n",
       "    <tr>\n",
       "      <th>1</th>\n",
       "      <td>2017</td>\n",
       "      <td>931</td>\n",
       "      <td>1</td>\n",
       "      <td>1120</td>\n",
       "      <td>433</td>\n",
       "      <td>171</td>\n",
       "      <td>13</td>\n",
       "      <td>458</td>\n",
       "      <td>504</td>\n",
       "      <td>56</td>\n",
       "      <td>...</td>\n",
       "      <td>4971</td>\n",
       "      <td>124</td>\n",
       "      <td>568</td>\n",
       "      <td>3</td>\n",
       "      <td>32</td>\n",
       "      <td>1</td>\n",
       "      <td>0</td>\n",
       "      <td>162</td>\n",
       "      <td>0</td>\n",
       "      <td>5</td>\n",
       "    </tr>\n",
       "  </tbody>\n",
       "</table>\n",
       "<p>2 rows × 37 columns</p>\n",
       "</div>"
      ],
      "text/plain": [
       "  index    0  1     2    3    4   5    6    7   8  ...    26   27   28  30  \\\n",
       "0  2016  616  4   696  309   90  31  362  401  31  ...  2639   62  478   3   \n",
       "1  2017  931  1  1120  433  171  13  458  504  56  ...  4971  124  568   3   \n",
       "\n",
       "   31  32  33   34  35  36  \n",
       "0  26   1   0   98   0   2  \n",
       "1  32   1   0  162   0   5  \n",
       "\n",
       "[2 rows x 37 columns]"
      ]
     },
     "execution_count": 82,
     "metadata": {},
     "output_type": "execute_result"
    }
   ],
   "source": [
    "crime_data_new.head(2)"
   ]
  },
  {
   "cell_type": "code",
   "execution_count": 83,
   "id": "e7430d66",
   "metadata": {},
   "outputs": [],
   "source": [
    "crime_data_new = crime_data_new.rename(columns = {'index':'year'})"
   ]
  },
  {
   "cell_type": "code",
   "execution_count": 84,
   "id": "421f5882",
   "metadata": {},
   "outputs": [
    {
     "data": {
      "text/plain": [
       "Index(['year',      0,      1,      2,      3,      4,      5,      6,      7,\n",
       "            8,      9,     10,     11,     12,     13,     14,     15,     16,\n",
       "           17,     18,     19,     20,     21,     22,     23,     24,     25,\n",
       "           26,     27,     28,     30,     31,     32,     33,     34,     35,\n",
       "           36],\n",
       "      dtype='object')"
      ]
     },
     "execution_count": 84,
     "metadata": {},
     "output_type": "execute_result"
    }
   ],
   "source": [
    "crime_data_new.columns"
   ]
  },
  {
   "cell_type": "code",
   "execution_count": 86,
   "id": "4392bd6c",
   "metadata": {},
   "outputs": [],
   "source": [
    "cols= [0,      1,      2,      3,      4,      5,      6,      7,\n",
    "            8,      9,     10,     11,     12,     13,     14,     15,     16,\n",
    "           17,     18,     19,     20,     21,     22,     23,     24,     25,\n",
    "           26,     27,     28,     30,     31,     32,  ]"
   ]
  },
  {
   "cell_type": "code",
   "execution_count": 90,
   "id": "83c67621",
   "metadata": {},
   "outputs": [],
   "source": [
    "crime_data_new['total']=crime_data_new[cols].sum(axis=1)"
   ]
  },
  {
   "cell_type": "code",
   "execution_count": 91,
   "id": "22fe085d",
   "metadata": {},
   "outputs": [
    {
     "data": {
      "text/html": [
       "<div>\n",
       "<style scoped>\n",
       "    .dataframe tbody tr th:only-of-type {\n",
       "        vertical-align: middle;\n",
       "    }\n",
       "\n",
       "    .dataframe tbody tr th {\n",
       "        vertical-align: top;\n",
       "    }\n",
       "\n",
       "    .dataframe thead th {\n",
       "        text-align: right;\n",
       "    }\n",
       "</style>\n",
       "<table border=\"1\" class=\"dataframe\">\n",
       "  <thead>\n",
       "    <tr style=\"text-align: right;\">\n",
       "      <th></th>\n",
       "      <th>year</th>\n",
       "      <th>0</th>\n",
       "      <th>1</th>\n",
       "      <th>2</th>\n",
       "      <th>3</th>\n",
       "      <th>4</th>\n",
       "      <th>5</th>\n",
       "      <th>6</th>\n",
       "      <th>7</th>\n",
       "      <th>8</th>\n",
       "      <th>...</th>\n",
       "      <th>27</th>\n",
       "      <th>28</th>\n",
       "      <th>30</th>\n",
       "      <th>31</th>\n",
       "      <th>32</th>\n",
       "      <th>33</th>\n",
       "      <th>34</th>\n",
       "      <th>35</th>\n",
       "      <th>36</th>\n",
       "      <th>total</th>\n",
       "    </tr>\n",
       "  </thead>\n",
       "  <tbody>\n",
       "    <tr>\n",
       "      <th>0</th>\n",
       "      <td>2016</td>\n",
       "      <td>616</td>\n",
       "      <td>4</td>\n",
       "      <td>696</td>\n",
       "      <td>309</td>\n",
       "      <td>90</td>\n",
       "      <td>31</td>\n",
       "      <td>362</td>\n",
       "      <td>401</td>\n",
       "      <td>31</td>\n",
       "      <td>...</td>\n",
       "      <td>62</td>\n",
       "      <td>478</td>\n",
       "      <td>3</td>\n",
       "      <td>26</td>\n",
       "      <td>1</td>\n",
       "      <td>0</td>\n",
       "      <td>98</td>\n",
       "      <td>0</td>\n",
       "      <td>2</td>\n",
       "      <td>12217</td>\n",
       "    </tr>\n",
       "    <tr>\n",
       "      <th>1</th>\n",
       "      <td>2017</td>\n",
       "      <td>931</td>\n",
       "      <td>1</td>\n",
       "      <td>1120</td>\n",
       "      <td>433</td>\n",
       "      <td>171</td>\n",
       "      <td>13</td>\n",
       "      <td>458</td>\n",
       "      <td>504</td>\n",
       "      <td>56</td>\n",
       "      <td>...</td>\n",
       "      <td>124</td>\n",
       "      <td>568</td>\n",
       "      <td>3</td>\n",
       "      <td>32</td>\n",
       "      <td>1</td>\n",
       "      <td>0</td>\n",
       "      <td>162</td>\n",
       "      <td>0</td>\n",
       "      <td>5</td>\n",
       "      <td>21629</td>\n",
       "    </tr>\n",
       "  </tbody>\n",
       "</table>\n",
       "<p>2 rows × 38 columns</p>\n",
       "</div>"
      ],
      "text/plain": [
       "   year    0  1     2    3    4   5    6    7   8  ...   27   28  30  31  32  \\\n",
       "0  2016  616  4   696  309   90  31  362  401  31  ...   62  478   3  26   1   \n",
       "1  2017  931  1  1120  433  171  13  458  504  56  ...  124  568   3  32   1   \n",
       "\n",
       "   33   34  35  36  total  \n",
       "0   0   98   0   2  12217  \n",
       "1   0  162   0   5  21629  \n",
       "\n",
       "[2 rows x 38 columns]"
      ]
     },
     "execution_count": 91,
     "metadata": {},
     "output_type": "execute_result"
    }
   ],
   "source": [
    "crime_data_new.head(2)"
   ]
  },
  {
   "cell_type": "code",
   "execution_count": 92,
   "id": "ee6ca3b7",
   "metadata": {},
   "outputs": [
    {
     "data": {
      "image/png": "[encoded data removed]",
      "text/plain": [
       "<Figure size 1080x432 with 1 Axes>"
      ]
     },
     "metadata": {
      "needs_background": "light"
     },
     "output_type": "display_data"
    }
   ],
   "source": [
    "plt.figure(figsize=(15,6))\n",
    "sns.lineplot(x ='year', y ='total', data=crime_data_new,palette='hls')\n",
    "plt.xticks(rotation=90)\n",
    "plt.show()"
   ]
  },
  {
   "cell_type": "code",
   "execution_count": 93,
   "id": "fe7507ce",
   "metadata": {},
   "outputs": [
    {
     "data": {
      "image/png": "[encoded data removed]",
      "text/plain": [
       "<Figure size 1080x432 with 1 Axes>"
      ]
     },
     "metadata": {
      "needs_background": "light"
     },
     "output_type": "display_data"
    }
   ],
   "source": [
    "plt.figure(figsize=(15,6))\n",
    "sns.barplot(x = 'year', y = 'total', data=crime_data_new, palette='hls')\n",
    "plt.xticks(rotation = 90)\n",
    "plt.show()"
   ]
  },
  {
   "cell_type": "code",
   "execution_count": 94,
   "id": "6bf81742",
   "metadata": {},
   "outputs": [
    {
     "data": {
      "text/plain": [
       "Index(['S. No', 'Category', 'State/UT', '2016', '2017', '2018',\n",
       "       'Percentage_Share', 'Projected_Population', 'Rate_cyber_crime_2018',\n",
       "       'Total'],\n",
       "      dtype='object')"
      ]
     },
     "execution_count": 94,
     "metadata": {},
     "output_type": "execute_result"
    }
   ],
   "source": [
    "crime_data.columns"
   ]
  },
  {
   "cell_type": "code",
   "execution_count": 98,
   "id": "b910578d",
   "metadata": {},
   "outputs": [
    {
     "data": {
      "text/plain": [
       "(36, 3)"
      ]
     },
     "execution_count": 98,
     "metadata": {},
     "output_type": "execute_result"
    }
   ],
   "source": [
    "x = crime_data[['2016','2017','2018']] \n",
    "x.shape"
   ]
  },
  {
   "cell_type": "code",
   "execution_count": 100,
   "id": "6bcdc184",
   "metadata": {},
   "outputs": [
    {
     "data": {
      "text/plain": [
       "(36,)"
      ]
     },
     "execution_count": 100,
     "metadata": {},
     "output_type": "execute_result"
    }
   ],
   "source": [
    "y = crime_data['Total']\n",
    "y.shape"
   ]
  },
  {
   "cell_type": "code",
   "execution_count": 101,
   "id": "84e8a0b2",
   "metadata": {},
   "outputs": [],
   "source": [
    "from sklearn.model_selection import train_test_split"
   ]
  },
  {
   "cell_type": "code",
   "execution_count": 113,
   "id": "f7aa45d6",
   "metadata": {},
   "outputs": [],
   "source": [
    "X_train,X_test,y_train,y_test = train_test_split(x,y,test_size=0.2) "
   ]
  },
  {
   "cell_type": "code",
   "execution_count": 114,
   "id": "7d021802",
   "metadata": {},
   "outputs": [],
   "source": [
    "from sklearn.tree import DecisionTreeRegressor"
   ]
  },
  {
   "cell_type": "code",
   "execution_count": 115,
   "id": "f00809cd",
   "metadata": {},
   "outputs": [],
   "source": [
    "regressor = DecisionTreeRegressor(max_depth=6)"
   ]
  },
  {
   "cell_type": "code",
   "execution_count": 116,
   "id": "f7e20180",
   "metadata": {},
   "outputs": [
    {
     "data": {
      "text/plain": [
       "DecisionTreeRegressor(max_depth=6)"
      ]
     },
     "execution_count": 116,
     "metadata": {},
     "output_type": "execute_result"
    }
   ],
   "source": [
    "regressor.fit(X_train,y_train)"
   ]
  },
  {
   "cell_type": "code",
   "execution_count": 117,
   "id": "08d30f56",
   "metadata": {},
   "outputs": [
    {
     "name": "stdout",
     "output_type": "stream",
     "text": [
      "Training Accuracy: 0.9999954049553469\n",
      "Testing Accuracy: 0.9849130913434435\n"
     ]
    }
   ],
   "source": [
    "print('Training Accuracy:',regressor.score(X_train,y_train))\n",
    "print('Testing Accuracy:',regressor.score(X_test,y_test))"
   ]
  },
  {
   "cell_type": "code",
   "execution_count": null,
   "id": "81a73e21",
   "metadata": {},
   "outputs": [],
   "source": []
  },
  {
   "cell_type": "code",
   "execution_count": null,
   "id": "2e9c4196",
   "metadata": {},
   "outputs": [],
   "source": []
  }
 ],
 "metadata": {
  "kernelspec": {
   "display_name": "Python 3 (ipykernel)",
   "language": "python",
   "name": "python3"
  },
  "language_info": {
   "codemirror_mode": {
    "name": "ipython",
    "version": 3
   },
   "file_extension": ".py",
   "mimetype": "text/x-python",
   "name": "python",
   "nbconvert_exporter": "python",
   "pygments_lexer": "ipython3",
   "version": "3.9.7"
  }
 },
 "nbformat": 4,
 "nbformat_minor": 5
}
